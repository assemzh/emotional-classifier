{
 "cells": [
  {
   "cell_type": "code",
   "execution_count": 1,
   "metadata": {},
   "outputs": [
    {
     "name": "stderr",
     "output_type": "stream",
     "text": [
      "/usr/local/lib/python3.7/site-packages/pandas/compat/__init__.py:117: UserWarning: Could not import the lzma module. Your installed Python is incomplete. Attempting to use lzma compression will result in a RuntimeError.\n",
      "  warnings.warn(msg)\n"
     ]
    }
   ],
   "source": [
    "# Get COVID-19 tweets\n",
    "import pandas as pd\n",
    "from os import listdir\n",
    "from os.path import isfile, join"
   ]
  },
  {
   "cell_type": "code",
   "execution_count": 4,
   "metadata": {},
   "outputs": [
    {
     "data": {
      "text/plain": [
       "array(['en'], dtype=object)"
      ]
     },
     "execution_count": 4,
     "metadata": {},
     "output_type": "execute_result"
    }
   ],
   "source": [
    "data.lang.unique()"
   ]
  },
  {
   "cell_type": "code",
   "execution_count": 5,
   "metadata": {},
   "outputs": [
    {
     "data": {
      "text/plain": [
       "(3407969, 5)"
      ]
     },
     "execution_count": 5,
     "metadata": {},
     "output_type": "execute_result"
    }
   ],
   "source": [
    "data.shape"
   ]
  },
  {
   "cell_type": "markdown",
   "metadata": {},
   "source": [
    "# Create emotion words data"
   ]
  },
  {
   "cell_type": "code",
   "execution_count": 6,
   "metadata": {},
   "outputs": [],
   "source": [
    "emo_lex = pd.read_csv('/home/assem/Training data/Emotion_lexicon/NRC-Emotion-Intensity-Lexicon-v1.txt',sep=\"\\t\")"
   ]
  },
  {
   "cell_type": "code",
   "execution_count": 7,
   "metadata": {},
   "outputs": [
    {
     "data": {
      "text/html": [
       "<div>\n",
       "<style scoped>\n",
       "    .dataframe tbody tr th:only-of-type {\n",
       "        vertical-align: middle;\n",
       "    }\n",
       "\n",
       "    .dataframe tbody tr th {\n",
       "        vertical-align: top;\n",
       "    }\n",
       "\n",
       "    .dataframe thead th {\n",
       "        text-align: right;\n",
       "    }\n",
       "</style>\n",
       "<table border=\"1\" class=\"dataframe\">\n",
       "  <thead>\n",
       "    <tr style=\"text-align: right;\">\n",
       "      <th></th>\n",
       "      <th>word</th>\n",
       "      <th>emotion</th>\n",
       "      <th>emotion-intensity-score</th>\n",
       "    </tr>\n",
       "  </thead>\n",
       "  <tbody>\n",
       "    <tr>\n",
       "      <th>0</th>\n",
       "      <td>outraged</td>\n",
       "      <td>anger</td>\n",
       "      <td>0.964</td>\n",
       "    </tr>\n",
       "    <tr>\n",
       "      <th>1</th>\n",
       "      <td>brutality</td>\n",
       "      <td>anger</td>\n",
       "      <td>0.959</td>\n",
       "    </tr>\n",
       "    <tr>\n",
       "      <th>2</th>\n",
       "      <td>hatred</td>\n",
       "      <td>anger</td>\n",
       "      <td>0.953</td>\n",
       "    </tr>\n",
       "    <tr>\n",
       "      <th>3</th>\n",
       "      <td>hateful</td>\n",
       "      <td>anger</td>\n",
       "      <td>0.940</td>\n",
       "    </tr>\n",
       "    <tr>\n",
       "      <th>4</th>\n",
       "      <td>terrorize</td>\n",
       "      <td>anger</td>\n",
       "      <td>0.939</td>\n",
       "    </tr>\n",
       "  </tbody>\n",
       "</table>\n",
       "</div>"
      ],
      "text/plain": [
       "        word emotion  emotion-intensity-score\n",
       "0   outraged   anger                    0.964\n",
       "1  brutality   anger                    0.959\n",
       "2     hatred   anger                    0.953\n",
       "3    hateful   anger                    0.940\n",
       "4  terrorize   anger                    0.939"
      ]
     },
     "execution_count": 7,
     "metadata": {},
     "output_type": "execute_result"
    }
   ],
   "source": [
    "emo_lex.head()"
   ]
  },
  {
   "cell_type": "code",
   "execution_count": 8,
   "metadata": {},
   "outputs": [],
   "source": [
    "import numpy as np\n",
    "emo_lex = emo_lex.set_index(['word','emotion'])['emotion-intensity-score']\\\n",
    "  .unstack()\\\n",
    "  .rename_axis([None], axis=1)\\\n",
    "  .reset_index()\\\n",
    "  .replace(np.nan, 0)"
   ]
  },
  {
   "cell_type": "code",
   "execution_count": 9,
   "metadata": {},
   "outputs": [
    {
     "data": {
      "text/plain": [
       "word             zest\n",
       "anger           0.964\n",
       "anticipation    0.859\n",
       "disgust         0.953\n",
       "fear            0.984\n",
       "joy             0.986\n",
       "sadness         0.969\n",
       "surprise         0.93\n",
       "trust           0.906\n",
       "dtype: object"
      ]
     },
     "execution_count": 9,
     "metadata": {},
     "output_type": "execute_result"
    }
   ],
   "source": [
    "emo_lex.max()"
   ]
  },
  {
   "cell_type": "code",
   "execution_count": 10,
   "metadata": {},
   "outputs": [],
   "source": [
    "emo_hash = pd.read_csv('/home/assem/Training data/Hashtag_lexicon/NRC-Hashtag-Emotion-Lexicon-v0.2.txt',sep=\"\\t\",names=['emotion','word','score'])\n"
   ]
  },
  {
   "cell_type": "code",
   "execution_count": 11,
   "metadata": {},
   "outputs": [
    {
     "data": {
      "text/plain": [
       "emotion    32389\n",
       "word       32385\n",
       "score      32389\n",
       "dtype: int64"
      ]
     },
     "execution_count": 11,
     "metadata": {},
     "output_type": "execute_result"
    }
   ],
   "source": [
    "emo_hash.count()"
   ]
  },
  {
   "cell_type": "code",
   "execution_count": 12,
   "metadata": {},
   "outputs": [],
   "source": [
    "emo_hash = emo_hash.set_index(['word','emotion'])['score']\\\n",
    "  .unstack()\\\n",
    "  .rename_axis([None], axis=1)\\\n",
    "  .reset_index()\\\n",
    "  .replace(np.nan, 0)"
   ]
  },
  {
   "cell_type": "code",
   "execution_count": 13,
   "metadata": {},
   "outputs": [],
   "source": [
    "# Select only hashtags\n",
    "emo_hash = emo_hash[emo_hash['word'].apply(lambda x: str(x).startswith('#'))]"
   ]
  },
  {
   "cell_type": "code",
   "execution_count": 14,
   "metadata": {},
   "outputs": [
    {
     "data": {
      "text/plain": [
       "word            #zombies\n",
       "anger            1.42992\n",
       "anticipation     2.23748\n",
       "disgust          1.73567\n",
       "fear             1.95195\n",
       "joy              2.16828\n",
       "sadness          2.22058\n",
       "surprise         1.48525\n",
       "trust            2.68913\n",
       "dtype: object"
      ]
     },
     "execution_count": 14,
     "metadata": {},
     "output_type": "execute_result"
    }
   ],
   "source": [
    "emo_hash.max()"
   ]
  },
  {
   "cell_type": "markdown",
   "metadata": {},
   "source": [
    "# Preprocess"
   ]
  },
  {
   "cell_type": "code",
   "execution_count": 15,
   "metadata": {},
   "outputs": [
    {
     "name": "stdout",
     "output_type": "stream",
     "text": [
      "Reading twitter - 1grams ...\n"
     ]
    },
    {
     "name": "stderr",
     "output_type": "stream",
     "text": [
      "/home/assem/.local/lib/python3.7/site-packages/ekphrasis/classes/tokenizer.py:225: FutureWarning: Possible nested set at position 2190\n",
      "  self.tok = re.compile(r\"({})\".format(\"|\".join(pipeline)))\n",
      "/home/assem/.local/lib/python3.7/site-packages/ekphrasis/classes/exmanager.py:14: FutureWarning: Possible nested set at position 42\n",
      "  regexes = {k.lower(): re.compile(self.expressions[k]) for k, v in\n"
     ]
    }
   ],
   "source": [
    "from ekphrasis.classes.preprocessor import TextPreProcessor\n",
    "from ekphrasis.classes.tokenizer import SocialTokenizer\n",
    "from ekphrasis.dicts.emoticons import emoticons\n",
    "\n",
    "text_processor = TextPreProcessor(\n",
    "    # terms that will be normalized\n",
    "    normalize=['url', 'email', 'percent', 'money', 'phone', 'user',\n",
    "        'time', 'url', 'date', 'number'],\n",
    "    # terms that will be annotated\n",
    "#    removed \"hashtag\",\n",
    "    annotate={ \"elongated\", \"repeated\",\n",
    "        'emphasis', 'censored'},\n",
    "    fix_html=True,  # fix HTML tokens\n",
    "    \n",
    "    # corpus from which the word statistics are going to be used \n",
    "    # for word segmentation \n",
    "    segmenter=\"twitter\", \n",
    "    \n",
    "    # corpus from which the word statistics are going to be used \n",
    "    # for spell correction\n",
    "    corrector=\"twitter\", \n",
    "    \n",
    "    unpack_hashtags=False,  # perform word segmentation on hashtags\n",
    "    unpack_contractions=True,  # Unpack contractions (can't -> can not)\n",
    "    spell_correct_elong=True,  # spell correction for elongated words\n",
    "    \n",
    "    # select a tokenizer. You can use SocialTokenizer, or pass your own\n",
    "    # the tokenizer, should take as input a string and return a list of tokens\n",
    "    tokenizer=SocialTokenizer(lowercase=True,hashtags=True).tokenize,\n",
    "    \n",
    "    # list of dictionaries, for replacing tokens extracted from the text,\n",
    "    # with other expressions. You can pass more than one dictionaries.\n",
    "    dicts=[emoticons]\n",
    ")"
   ]
  },
  {
   "cell_type": "code",
   "execution_count": 16,
   "metadata": {},
   "outputs": [],
   "source": [
    "import re\n",
    "\n",
    "def preprocess_tweets(text):\n",
    "    result = \" \".join(text_processor.pre_process_doc(text))\n",
    "    result = re.sub(r'<elongated>', '', result)\n",
    "    result = re.sub(r'<url>', '', result)\n",
    "    result = re.sub(r'<user>', '', result)\n",
    "#     result = re.sub(r'<hashtag> .+? </hashtag> ', '', result)\n",
    "    result = result.replace('<','')\n",
    "    result = result.replace('>','')\n",
    "    return result"
   ]
  },
  {
   "attachments": {
    "image.png": {
     "image/png": "[encoded data removed]"
    }
   },
   "cell_type": "markdown",
   "metadata": {},
   "source": [
    "![image.png](attachment:image.png)"
   ]
  },
  {
   "cell_type": "code",
   "execution_count": 17,
   "metadata": {},
   "outputs": [
    {
     "data": {
      "text/plain": [
       "' , you are so lovely  happy .  #cute'"
      ]
     },
     "execution_count": 17,
     "metadata": {},
     "output_type": "execute_result"
    }
   ],
   "source": [
    "preprocess_tweets('@Dana, you are so loooovely :). https://journals.sagepub #cute')"
   ]
  },
  {
   "cell_type": "markdown",
   "metadata": {},
   "source": [
    "https://onlineteachersuk.com/adverbs-of-degree/"
   ]
  },
  {
   "cell_type": "code",
   "execution_count": 18,
   "metadata": {},
   "outputs": [],
   "source": [
    "degree_set = { 'little': 1,\n",
    "                'bit':1,\n",
    "                'slightly':1,\n",
    "                'fairly':2,\n",
    "                'pretty':2,\n",
    "                'quite':2,\n",
    "                'rather':2,\n",
    "                'somewhat':2,\n",
    "                'remarkably':3,\n",
    "                'awfully':3,\n",
    "                'extremely':3,\n",
    "                'highly':3,\n",
    "                'terribly':3,\n",
    "                'lot':3,\n",
    "                'really':3,\n",
    "                'incredibly':3,\n",
    "                'particularly':3,\n",
    "                'deeply':3,\n",
    "                'enormously':3,\n",
    "                'greatly':3,\n",
    "                'incredibly':3,\n",
    "                'lots':3,\n",
    "                'most':3,\n",
    "                'remarkably':3,\n",
    "                'strongly':3,\n",
    "                'very':3,\n",
    "                'totally':4,\n",
    "                'utterly':4,\n",
    "                'completely':4,\n",
    "                'absolutely':4,\n",
    "                'entirely':4,\n",
    "                'perfectly':4,\n",
    "                'thoroughly':4,\n",
    "                'too':4,\n",
    "}"
   ]
  },
  {
   "cell_type": "code",
   "execution_count": 19,
   "metadata": {},
   "outputs": [],
   "source": [
    "import spacy\n",
    "from spacy.tokenizer import _get_regex_pattern\n",
    "\n",
    "\n",
    "nlp = spacy.load(\"en_core_web_sm\")\n",
    "\n",
    "# get default pattern for tokens that don't get split\n",
    "re_token_match = _get_regex_pattern(nlp.Defaults.token_match)\n",
    "# add your patterns (here: hashtags and in-word hyphens)\n",
    "re_token_match = f\"({re_token_match}|#\\w+|\\w+-\\w+)\"\n",
    "\n",
    "# overwrite token_match function of the tokenizer\n",
    "nlp.tokenizer.token_match = re.compile(re_token_match).match\n",
    "\n",
    "\n",
    "def hit(text):\n",
    "    doc = nlp(preprocess_tweets(text))\n",
    "    hits = []\n",
    "#     Detect the NSUBJ person\n",
    "    person = 1\n",
    "    for token in doc:\n",
    "        if token.dep_ == 'nsubj':\n",
    "            if str(token) in ['i', 'me', 'my', 'mine', 'myself']:\n",
    "                person = 1\n",
    "            elif str(token) in ['you', 'your', 'yours', 'yourself', 'yourselves']:\n",
    "                person = 2\n",
    "            elif str(token) in ['he', 'him', 'his', 'himself', 'she', 'her', \\\n",
    "                                  'hers', 'herself', 'it', 'its', 'itself', 'they',\\\n",
    "                                  'them', 'their', 'theirs', 'themselves']:\n",
    "                person = 3\n",
    "            elif token.pos_ == 'PROPN':\n",
    "                person = 3\n",
    "\n",
    "    for token in doc:  \n",
    "        if token.lemma_ in list(emo_lex.word):\n",
    "            row = emo_lex[emo_lex.word==token.lemma_]\n",
    "            neg = False\n",
    "            deg = 0\n",
    "            for child in token.children:\n",
    "                if child.lemma_ in degree_set.keys():\n",
    "                    deg = degree_set[child.lemma_]\n",
    "            for child in token.head.children:\n",
    "                if child.dep_ == 'neg':\n",
    "                    neg = True\n",
    "                elif child.dep_ == 'advmod':\n",
    "#                     print(child)\n",
    "                    for grandchild in child.children:\n",
    "                        if grandchild.dep_ == 'neg':\n",
    "#                             print('Negative:',token.lemma_)\n",
    "                            neg = True\n",
    "            hits.append({'type': 'word', 'lemma' : token.lemma_, 'person': person,'scores': np.array(row.drop('word',axis=1).iloc[0].tolist()), 'neg':neg, 'deg':deg})\n",
    "#         Consider emotional hashtags\n",
    "        elif token.lemma_ in list(emo_hash.word):\n",
    "            row = emo_hash[emo_hash.word==token.lemma_]\n",
    "            hits.append({'type': 'hashtag','lemma' : token.lemma_, 'person': person, 'scores': np.array(row.drop('word',axis=1).iloc[0].tolist())})\n",
    "\n",
    "\n",
    "   \n",
    "    total_score = np.array([0]*8).astype('float64')\n",
    "#     'anger', 'anticipation', 'disgust', 'fear', 'joy', 'sadness', 'surprise', 'trust'\n",
    "    for i in hits: \n",
    "#         print(i)\n",
    "        score = np.array([0]*8).astype('float64')\n",
    "        if i['type'] == 'word':\n",
    "            if i['neg']:\n",
    "#                 Handle the negation by Plutchik's wheel of emotions\n",
    "                score[0] = i['scores'][3] #anger\n",
    "                score[0] = 0\n",
    "                score[1] = i['scores'][6] #anticipation\n",
    "                score[2] = i['scores'][7] #disgust\n",
    "                score[3] = i['scores'][0] #fear\n",
    "                score[3] = 0\n",
    "                score[4] = i['scores'][5] #joy\n",
    "                score[5] = i['scores'][4] #sadness\n",
    "                score[6] = i['scores'][1] #surprize\n",
    "                score[7] = i['scores'][2] #trust\n",
    "                score[score>0.66]-=0.33\n",
    "                score[score<0.32]+=0.33\n",
    "            else:\n",
    "#                 Add weight to this word by degree presence\n",
    "                score = i['scores']+ 0.1*deg\n",
    "        elif i['type'] == 'hashtag':\n",
    "            score = i['scores']*1.5\n",
    "        \n",
    "#         From paper: increase the weight of the first and second person\n",
    "        if i['person']==1:\n",
    "            score*=10\n",
    "        elif i['person']==2:\n",
    "            score*=2\n",
    "        \n",
    "#         Add to the final total score\n",
    "        total_score += score\n",
    "#         Normalize to see the proportion of each emotion\n",
    "    if sum(total_score) !=0:\n",
    "        total_score = total_score/sum(total_score)\n",
    "    return total_score\n"
   ]
  },
  {
   "cell_type": "markdown",
   "metadata": {},
   "source": [
    "# Example and Evaluation of NLP model"
   ]
  },
  {
   "cell_type": "code",
   "execution_count": 23,
   "metadata": {},
   "outputs": [
    {
     "data": {
      "text/html": [
       "<div>\n",
       "<style scoped>\n",
       "    .dataframe tbody tr th:only-of-type {\n",
       "        vertical-align: middle;\n",
       "    }\n",
       "\n",
       "    .dataframe tbody tr th {\n",
       "        vertical-align: top;\n",
       "    }\n",
       "\n",
       "    .dataframe thead th {\n",
       "        text-align: right;\n",
       "    }\n",
       "</style>\n",
       "<table border=\"1\" class=\"dataframe\">\n",
       "  <thead>\n",
       "    <tr style=\"text-align: right;\">\n",
       "      <th></th>\n",
       "      <th>Unnamed: 0</th>\n",
       "      <th>id</th>\n",
       "      <th>date</th>\n",
       "      <th>text</th>\n",
       "      <th>retweet_count</th>\n",
       "      <th>lang</th>\n",
       "      <th>subjectivity</th>\n",
       "      <th>preprocessed_text</th>\n",
       "      <th>label</th>\n",
       "    </tr>\n",
       "  </thead>\n",
       "  <tbody>\n",
       "    <tr>\n",
       "      <th>0</th>\n",
       "      <td>0</td>\n",
       "      <td>1251133469444526080</td>\n",
       "      <td>Fri Apr 17 13:00:38 +0000 2020</td>\n",
       "      <td>My daugther (Emily) is turning 10 on Wednesday...</td>\n",
       "      <td>5.0</td>\n",
       "      <td>en</td>\n",
       "      <td>0.687500</td>\n",
       "      <td>my daugther ( emily ) is turning &lt;number&gt; on w...</td>\n",
       "      <td>joy</td>\n",
       "    </tr>\n",
       "    <tr>\n",
       "      <th>1</th>\n",
       "      <td>1</td>\n",
       "      <td>1251842259785564162</td>\n",
       "      <td>Sun Apr 19 11:57:07 +0000 2020</td>\n",
       "      <td>My Cat Scratched me Right When I Was Taking Th...</td>\n",
       "      <td>0.0</td>\n",
       "      <td>en</td>\n",
       "      <td>0.611905</td>\n",
       "      <td>my cat scratched me right when i was taking th...</td>\n",
       "      <td>joy</td>\n",
       "    </tr>\n",
       "    <tr>\n",
       "      <th>2</th>\n",
       "      <td>2</td>\n",
       "      <td>1246411656088993794</td>\n",
       "      <td>Sat Apr 04 12:17:50 +0000 2020</td>\n",
       "      <td>Like #colourful ballons drifting in the sky ou...</td>\n",
       "      <td>0.0</td>\n",
       "      <td>en</td>\n",
       "      <td>0.766667</td>\n",
       "      <td>like #colourful ballons drifting in the sky ou...</td>\n",
       "      <td>joy</td>\n",
       "    </tr>\n",
       "    <tr>\n",
       "      <th>3</th>\n",
       "      <td>3</td>\n",
       "      <td>1252078175544176640</td>\n",
       "      <td>Mon Apr 20 03:34:34 +0000 2020</td>\n",
       "      <td>We should let all these racist trumpies keep p...</td>\n",
       "      <td>0.0</td>\n",
       "      <td>en</td>\n",
       "      <td>1.000000</td>\n",
       "      <td>we should let all these racist trumpies keep p...</td>\n",
       "      <td>joy</td>\n",
       "    </tr>\n",
       "    <tr>\n",
       "      <th>4</th>\n",
       "      <td>4</td>\n",
       "      <td>1252382768857673731</td>\n",
       "      <td>Mon Apr 20 23:44:54 +0000 2020</td>\n",
       "      <td>This pandemic is going to make it reallyyyy ha...</td>\n",
       "      <td>1.0</td>\n",
       "      <td>en</td>\n",
       "      <td>0.558333</td>\n",
       "      <td>this pandemic is going to make it really  hard...</td>\n",
       "      <td>joy</td>\n",
       "    </tr>\n",
       "  </tbody>\n",
       "</table>\n",
       "</div>"
      ],
      "text/plain": [
       "   Unnamed: 0                   id                            date  \\\n",
       "0           0  1251133469444526080  Fri Apr 17 13:00:38 +0000 2020   \n",
       "1           1  1251842259785564162  Sun Apr 19 11:57:07 +0000 2020   \n",
       "2           2  1246411656088993794  Sat Apr 04 12:17:50 +0000 2020   \n",
       "3           3  1252078175544176640  Mon Apr 20 03:34:34 +0000 2020   \n",
       "4           4  1252382768857673731  Mon Apr 20 23:44:54 +0000 2020   \n",
       "\n",
       "                                                text  retweet_count lang  \\\n",
       "0  My daugther (Emily) is turning 10 on Wednesday...            5.0   en   \n",
       "1  My Cat Scratched me Right When I Was Taking Th...            0.0   en   \n",
       "2  Like #colourful ballons drifting in the sky ou...            0.0   en   \n",
       "3  We should let all these racist trumpies keep p...            0.0   en   \n",
       "4  This pandemic is going to make it reallyyyy ha...            1.0   en   \n",
       "\n",
       "   subjectivity                                  preprocessed_text label  \n",
       "0      0.687500  my daugther ( emily ) is turning <number> on w...   joy  \n",
       "1      0.611905  my cat scratched me right when i was taking th...   joy  \n",
       "2      0.766667  like #colourful ballons drifting in the sky ou...   joy  \n",
       "3      1.000000  we should let all these racist trumpies keep p...   joy  \n",
       "4      0.558333  this pandemic is going to make it really  hard...   joy  "
      ]
     },
     "execution_count": 23,
     "metadata": {},
     "output_type": "execute_result"
    }
   ],
   "source": [
    "gold = pd.read_csv('/home/assem/Testing data/test_data.csv')\n",
    "gold.head()"
   ]
  },
  {
   "cell_type": "code",
   "execution_count": 89,
   "metadata": {},
   "outputs": [
    {
     "data": {
      "text/html": [
       "<div>\n",
       "<style scoped>\n",
       "    .dataframe tbody tr th:only-of-type {\n",
       "        vertical-align: middle;\n",
       "    }\n",
       "\n",
       "    .dataframe tbody tr th {\n",
       "        vertical-align: top;\n",
       "    }\n",
       "\n",
       "    .dataframe thead th {\n",
       "        text-align: right;\n",
       "    }\n",
       "</style>\n",
       "<table border=\"1\" class=\"dataframe\">\n",
       "  <thead>\n",
       "    <tr style=\"text-align: right;\">\n",
       "      <th></th>\n",
       "      <th>Unnamed: 0</th>\n",
       "      <th>id</th>\n",
       "      <th>date</th>\n",
       "      <th>text</th>\n",
       "      <th>retweet_count</th>\n",
       "      <th>lang</th>\n",
       "      <th>subjectivity</th>\n",
       "      <th>preprocessed_text</th>\n",
       "    </tr>\n",
       "    <tr>\n",
       "      <th>label</th>\n",
       "      <th></th>\n",
       "      <th></th>\n",
       "      <th></th>\n",
       "      <th></th>\n",
       "      <th></th>\n",
       "      <th></th>\n",
       "      <th></th>\n",
       "      <th></th>\n",
       "    </tr>\n",
       "  </thead>\n",
       "  <tbody>\n",
       "    <tr>\n",
       "      <th>anger</th>\n",
       "      <td>518</td>\n",
       "      <td>518</td>\n",
       "      <td>518</td>\n",
       "      <td>518</td>\n",
       "      <td>518</td>\n",
       "      <td>518</td>\n",
       "      <td>518</td>\n",
       "      <td>518</td>\n",
       "    </tr>\n",
       "    <tr>\n",
       "      <th>anticipation</th>\n",
       "      <td>431</td>\n",
       "      <td>431</td>\n",
       "      <td>431</td>\n",
       "      <td>431</td>\n",
       "      <td>431</td>\n",
       "      <td>431</td>\n",
       "      <td>431</td>\n",
       "      <td>431</td>\n",
       "    </tr>\n",
       "    <tr>\n",
       "      <th>disgust</th>\n",
       "      <td>58</td>\n",
       "      <td>58</td>\n",
       "      <td>58</td>\n",
       "      <td>58</td>\n",
       "      <td>58</td>\n",
       "      <td>58</td>\n",
       "      <td>58</td>\n",
       "      <td>58</td>\n",
       "    </tr>\n",
       "    <tr>\n",
       "      <th>fear</th>\n",
       "      <td>157</td>\n",
       "      <td>157</td>\n",
       "      <td>157</td>\n",
       "      <td>157</td>\n",
       "      <td>157</td>\n",
       "      <td>157</td>\n",
       "      <td>157</td>\n",
       "      <td>157</td>\n",
       "    </tr>\n",
       "    <tr>\n",
       "      <th>joy</th>\n",
       "      <td>3989</td>\n",
       "      <td>3989</td>\n",
       "      <td>3989</td>\n",
       "      <td>3989</td>\n",
       "      <td>3989</td>\n",
       "      <td>3989</td>\n",
       "      <td>3989</td>\n",
       "      <td>3989</td>\n",
       "    </tr>\n",
       "    <tr>\n",
       "      <th>sadness</th>\n",
       "      <td>2516</td>\n",
       "      <td>2516</td>\n",
       "      <td>2516</td>\n",
       "      <td>2516</td>\n",
       "      <td>2516</td>\n",
       "      <td>2516</td>\n",
       "      <td>2516</td>\n",
       "      <td>2516</td>\n",
       "    </tr>\n",
       "    <tr>\n",
       "      <th>surprise</th>\n",
       "      <td>68</td>\n",
       "      <td>68</td>\n",
       "      <td>68</td>\n",
       "      <td>68</td>\n",
       "      <td>68</td>\n",
       "      <td>68</td>\n",
       "      <td>68</td>\n",
       "      <td>68</td>\n",
       "    </tr>\n",
       "    <tr>\n",
       "      <th>trust</th>\n",
       "      <td>116</td>\n",
       "      <td>116</td>\n",
       "      <td>116</td>\n",
       "      <td>116</td>\n",
       "      <td>116</td>\n",
       "      <td>116</td>\n",
       "      <td>116</td>\n",
       "      <td>116</td>\n",
       "    </tr>\n",
       "  </tbody>\n",
       "</table>\n",
       "</div>"
      ],
      "text/plain": [
       "              Unnamed: 0    id  date  text  retweet_count  lang  subjectivity  \\\n",
       "label                                                                           \n",
       "anger                518   518   518   518            518   518           518   \n",
       "anticipation         431   431   431   431            431   431           431   \n",
       "disgust               58    58    58    58             58    58            58   \n",
       "fear                 157   157   157   157            157   157           157   \n",
       "joy                 3989  3989  3989  3989           3989  3989          3989   \n",
       "sadness             2516  2516  2516  2516           2516  2516          2516   \n",
       "surprise              68    68    68    68             68    68            68   \n",
       "trust                116   116   116   116            116   116           116   \n",
       "\n",
       "              preprocessed_text  \n",
       "label                            \n",
       "anger                       518  \n",
       "anticipation                431  \n",
       "disgust                      58  \n",
       "fear                        157  \n",
       "joy                        3989  \n",
       "sadness                    2516  \n",
       "surprise                     68  \n",
       "trust                       116  "
      ]
     },
     "execution_count": 89,
     "metadata": {},
     "output_type": "execute_result"
    }
   ],
   "source": [
    "gold.groupby('label').count()"
   ]
  },
  {
   "cell_type": "code",
   "execution_count": 99,
   "metadata": {},
   "outputs": [],
   "source": [
    "all_categories = ['anger', 'anticipation', 'disgust', 'fear', 'joy', 'sadness', 'surprise', 'trust']\n",
    "labels = pd.get_dummies(gold.label).reindex(columns=all_categories, fill_value=0)\n",
    "ans= np.array(labels)\n",
    "tweets = np.array(gold['text'])\n",
    "output = np.array(list(map(hit, tweets)))\n",
    "     "
   ]
  },
  {
   "cell_type": "code",
   "execution_count": 100,
   "metadata": {},
   "outputs": [],
   "source": [
    "check = output.copy()\n",
    "\n",
    "# for i in range(len(check)):\n",
    "#     check[i] = check[i] * (check[i] >= np.sort(check[i])[-sum(ans[i])]).astype(int)\n",
    "    \n",
    "# check[check>=1/8] = 1\n",
    "# check[check<1/8] = 0\n",
    "\n",
    "for row in check:\n",
    "    if sum(row) != 0:\n",
    "        row[row == max(row)] = 1\n",
    "        row[row != max(row)] = 0"
   ]
  },
  {
   "cell_type": "code",
   "execution_count": 102,
   "metadata": {},
   "outputs": [
    {
     "data": {
      "text/plain": [
       "array([[0., 0., 0., ..., 0., 0., 0.],\n",
       "       [0., 0., 0., ..., 0., 0., 0.],\n",
       "       [0., 0., 0., ..., 0., 0., 1.],\n",
       "       ...,\n",
       "       [0., 0., 0., ..., 0., 0., 1.],\n",
       "       [0., 0., 0., ..., 0., 0., 1.],\n",
       "       [1., 0., 0., ..., 0., 0., 0.]])"
      ]
     },
     "execution_count": 102,
     "metadata": {},
     "output_type": "execute_result"
    }
   ],
   "source": [
    "check\n"
   ]
  },
  {
   "cell_type": "code",
   "execution_count": 103,
   "metadata": {},
   "outputs": [
    {
     "name": "stdout",
     "output_type": "stream",
     "text": [
      "              precision    recall  f1-score   support\n",
      "\n",
      "           0       0.78      0.36      0.50       518\n",
      "           1       0.03      0.03      0.03       431\n",
      "           2       0.35      0.83      0.49        58\n",
      "           3       0.20      0.54      0.29       157\n",
      "           4       0.81      0.62      0.70      3989\n",
      "           5       0.92      0.74      0.82      2516\n",
      "           6       0.42      0.62      0.50        68\n",
      "           7       0.06      0.67      0.10       116\n",
      "\n",
      "   micro avg       0.61      0.61      0.61      7853\n",
      "   macro avg       0.45      0.55      0.43      7853\n",
      "weighted avg       0.77      0.61      0.67      7853\n",
      " samples avg       0.61      0.61      0.61      7853\n",
      "\n",
      "['anger', 'anticipation', 'disgust', 'fear', 'joy', 'sadness', 'surprise', 'trust']\n"
     ]
    }
   ],
   "source": [
    "from sklearn.metrics import classification_report\n",
    "print(classification_report(ans,check))\n",
    "print(all_categories)"
   ]
  },
  {
   "cell_type": "code",
   "execution_count": null,
   "metadata": {},
   "outputs": [],
   "source": []
  },
  {
   "cell_type": "code",
   "execution_count": null,
   "metadata": {},
   "outputs": [],
   "source": []
  },
  {
   "cell_type": "code",
   "execution_count": 20,
   "metadata": {},
   "outputs": [],
   "source": [
    "gold = pd.read_csv('/home/assem/SemEval2018-Task1-all-data/English/E-c/2018-E-c-En-train.txt', sep='\\t')"
   ]
  },
  {
   "cell_type": "code",
   "execution_count": 21,
   "metadata": {},
   "outputs": [],
   "source": [
    "gold = gold.drop(['love','optimism','pessimism'],axis=1)"
   ]
  },
  {
   "cell_type": "code",
   "execution_count": 22,
   "metadata": {},
   "outputs": [
    {
     "data": {
      "text/plain": [
       "array([[0, 1, 0, ..., 0, 0, 1],\n",
       "       [0, 0, 0, ..., 0, 0, 0],\n",
       "       [1, 0, 1, ..., 0, 0, 0],\n",
       "       ...,\n",
       "       [1, 0, 1, ..., 0, 0, 0],\n",
       "       [0, 0, 0, ..., 0, 1, 0],\n",
       "       [0, 0, 0, ..., 0, 0, 0]])"
      ]
     },
     "execution_count": 22,
     "metadata": {},
     "output_type": "execute_result"
    }
   ],
   "source": [
    "ans= np.array(gold[['anger', 'anticipation', 'disgust', 'fear', 'joy', 'sadness', 'surprise', 'trust']])\n",
    "ans"
   ]
  },
  {
   "cell_type": "code",
   "execution_count": 44,
   "metadata": {},
   "outputs": [
    {
     "data": {
      "text/plain": [
       "array([\"“Worry is a down payment on a problem you may never have'. \\xa0Joyce Meyer.  #motivation #leadership #worry\",\n",
       "       'Whatever you decide to do make sure it makes you #happy.',\n",
       "       \"@Max_Kellerman  it also helps that the majority of NFL coaching is inept. Some of Bill O'Brien's play calling was wow, ! #GOPATS\",\n",
       "       ...,\n",
       "       \"@isthataspider @dhodgs i will fight this guy! Don't insult the lions like that! But seriously they kinda are.Wasted some of the best players\",\n",
       "       'i wonder how a guy can broke his penis while having sex? #serious',\n",
       "       \"I'm highly animated even though I'm decomposing.\"], dtype=object)"
      ]
     },
     "execution_count": 44,
     "metadata": {},
     "output_type": "execute_result"
    }
   ],
   "source": [
    "tweets = np.array(gold['Tweet'])\n",
    "tweets"
   ]
  },
  {
   "cell_type": "code",
   "execution_count": 45,
   "metadata": {
    "scrolled": false
   },
   "outputs": [
    {
     "data": {
      "text/plain": [
       "array([[0.00000000e+00, 3.87626942e-02, 0.00000000e+00, ...,\n",
       "        1.75152161e-01, 1.87160439e-04, 2.63427847e-01],\n",
       "       [0.00000000e+00, 0.00000000e+00, 0.00000000e+00, ...,\n",
       "        0.00000000e+00, 0.00000000e+00, 0.00000000e+00],\n",
       "       [2.59517766e-01, 0.00000000e+00, 2.23350254e-01, ...,\n",
       "        0.00000000e+00, 0.00000000e+00, 3.42005076e-01],\n",
       "       ...,\n",
       "       [1.27780453e-01, 1.20558498e-01, 1.30476649e-01, ...,\n",
       "        9.70630717e-02, 8.46413096e-02, 1.75637939e-01],\n",
       "       [1.81798909e-01, 1.51923526e-01, 0.00000000e+00, ...,\n",
       "        1.05799981e-01, 1.14325186e-01, 8.19731256e-02],\n",
       "       [0.00000000e+00, 0.00000000e+00, 1.00000000e+00, ...,\n",
       "        0.00000000e+00, 0.00000000e+00, 0.00000000e+00]])"
      ]
     },
     "execution_count": 45,
     "metadata": {},
     "output_type": "execute_result"
    }
   ],
   "source": [
    "output = np.array(list(map(hit, tweets)))\n",
    "output"
   ]
  },
  {
   "cell_type": "code",
   "execution_count": 46,
   "metadata": {},
   "outputs": [
    {
     "data": {
      "text/plain": [
       "0.125"
      ]
     },
     "execution_count": 46,
     "metadata": {},
     "output_type": "execute_result"
    }
   ],
   "source": [
    "1/8"
   ]
  },
  {
   "cell_type": "code",
   "execution_count": 47,
   "metadata": {},
   "outputs": [],
   "source": [
    "check = output.copy()\n",
    "\n",
    "# for i in range(len(check)):\n",
    "#     check[i] = check[i] * (check[i] >= np.sort(check[i])[-sum(ans[i])]).astype(int)\n",
    "    \n",
    "check[check>=1/8] = 1\n",
    "check[check<1/8] = 0\n",
    "\n",
    "# for row in check:\n",
    "#     if sum(row) != 0:\n",
    "#         row[row == max(row)] = 1\n",
    "#         row[row != max(row)] = 0\n",
    "    \n",
    " \n"
   ]
  },
  {
   "cell_type": "code",
   "execution_count": 48,
   "metadata": {},
   "outputs": [
    {
     "data": {
      "text/plain": [
       "array([], dtype=float64)"
      ]
     },
     "execution_count": 48,
     "metadata": {},
     "output_type": "execute_result"
    }
   ],
   "source": [
    "check[np.isnan(check)]"
   ]
  },
  {
   "cell_type": "code",
   "execution_count": 49,
   "metadata": {},
   "outputs": [
    {
     "data": {
      "text/plain": [
       "array([[0., 0., 0., 1., 1., 1., 0., 1.],\n",
       "       [0., 0., 0., 0., 1., 0., 0., 0.],\n",
       "       [1., 0., 1., 1., 0., 0., 0., 1.],\n",
       "       [0., 1., 0., 0., 1., 0., 1., 1.],\n",
       "       [1., 0., 1., 0., 0., 0., 0., 0.],\n",
       "       [0., 0., 0., 1., 0., 0., 0., 0.],\n",
       "       [0., 0., 0., 1., 0., 0., 0., 0.],\n",
       "       [1., 1., 1., 1., 0., 1., 0., 0.],\n",
       "       [1., 1., 0., 0., 1., 1., 0., 0.],\n",
       "       [1., 0., 0., 1., 0., 1., 0., 0.]])"
      ]
     },
     "execution_count": 49,
     "metadata": {},
     "output_type": "execute_result"
    }
   ],
   "source": [
    "check[:10]"
   ]
  },
  {
   "cell_type": "code",
   "execution_count": 39,
   "metadata": {},
   "outputs": [
    {
     "name": "stdout",
     "output_type": "stream",
     "text": [
      "              precision    recall  f1-score   support\n",
      "\n",
      "           0       0.67      0.56      0.61      2544\n",
      "           1       0.18      0.39      0.24       978\n",
      "           2       0.68      0.41      0.51      2602\n",
      "           3       0.39      0.81      0.52      1242\n",
      "           4       0.60      0.70      0.64      2477\n",
      "           5       0.49      0.58      0.53      2008\n",
      "           6       0.12      0.40      0.19       361\n",
      "           7       0.09      0.65      0.16       357\n",
      "\n",
      "   micro avg       0.41      0.57      0.48     12569\n",
      "   macro avg       0.40      0.56      0.43     12569\n",
      "weighted avg       0.53      0.57      0.52     12569\n",
      " samples avg       0.42      0.58      0.45     12569\n",
      "\n"
     ]
    }
   ],
   "source": [
    "from sklearn.metrics import classification_report\n",
    "print(classification_report(ans,check))\n",
    "# 'anger', 'anticipation', 'disgust', 'fear', 'joy', 'sadness', 'surprise', 'trust'"
   ]
  },
  {
   "cell_type": "code",
   "execution_count": 50,
   "metadata": {},
   "outputs": [
    {
     "name": "stdout",
     "output_type": "stream",
     "text": [
      "              precision    recall  f1-score   support\n",
      "\n",
      "           0       0.67      0.57      0.61      2544\n",
      "           1       0.17      0.40      0.24       978\n",
      "           2       0.68      0.41      0.51      2602\n",
      "           3       0.39      0.81      0.52      1242\n",
      "           4       0.59      0.70      0.64      2477\n",
      "           5       0.49      0.59      0.53      2008\n",
      "           6       0.12      0.40      0.19       361\n",
      "           7       0.09      0.66      0.16       357\n",
      "\n",
      "   micro avg       0.41      0.57      0.48     12569\n",
      "   macro avg       0.40      0.57      0.43     12569\n",
      "weighted avg       0.53      0.57      0.52     12569\n",
      " samples avg       0.41      0.59      0.45     12569\n",
      "\n"
     ]
    }
   ],
   "source": [
    "from sklearn.metrics import classification_report\n",
    "print(classification_report(ans,check))\n",
    "# 'anger', 'anticipation', 'disgust', 'fear', 'joy', 'sadness', 'surprise', 'trust'"
   ]
  },
  {
   "cell_type": "code",
   "execution_count": 95,
   "metadata": {},
   "outputs": [
    {
     "data": {
      "text/plain": [
       "'#Deppression is real. Partners w/ #depressed people truly dont understand the depth in which they affect us. Add in #anxiety &amp;makes it worse'"
      ]
     },
     "execution_count": 95,
     "metadata": {},
     "output_type": "execute_result"
    }
   ],
   "source": [
    "text = gold['Tweet'][4]\n",
    "text"
   ]
  },
  {
   "cell_type": "code",
   "execution_count": 96,
   "metadata": {},
   "outputs": [
    {
     "name": "stdout",
     "output_type": "stream",
     "text": [
      "[0.07245892 0.00750442 0.01989809 0.48725455 0.01507707 0.36822134\n",
      " 0.00750442 0.0220812 ]\n"
     ]
    },
    {
     "data": {
      "text/plain": [
       "array([0., 0., 0., 1., 0., 1., 0., 0.])"
      ]
     },
     "execution_count": 96,
     "metadata": {},
     "output_type": "execute_result"
    }
   ],
   "source": [
    "a = hit(text)\n",
    "print(a)\n",
    "# a = a * (a >= np.sort(a)[-3]).astype(int)\n",
    "a[a>=0.15] = 1\n",
    "a[a<0.15] = 0\n",
    "a"
   ]
  },
  {
   "cell_type": "markdown",
   "metadata": {},
   "source": [
    "'anger', 'anticipation', 'disgust', 'fear', 'joy', 'sadness', 'surprise', 'trust'"
   ]
  },
  {
   "cell_type": "markdown",
   "metadata": {},
   "source": [
    "# Create training data"
   ]
  },
  {
   "cell_type": "code",
   "execution_count": 49,
   "metadata": {},
   "outputs": [],
   "source": [
    "data= data.drop_duplicates().sample(50000)"
   ]
  },
  {
   "cell_type": "code",
   "execution_count": 50,
   "metadata": {},
   "outputs": [],
   "source": [
    "data['class']=data.text.apply(lambda x: hit(x))"
   ]
  },
  {
   "cell_type": "code",
   "execution_count": 51,
   "metadata": {},
   "outputs": [
    {
     "data": {
      "text/plain": [
       "id               0.0\n",
       "date             0.0\n",
       "text             0.0\n",
       "retweet_count    0.0\n",
       "lang             0.0\n",
       "class            0.0\n",
       "dtype: float64"
      ]
     },
     "execution_count": 51,
     "metadata": {},
     "output_type": "execute_result"
    }
   ],
   "source": [
    "data.isnull().mean()"
   ]
  },
  {
   "cell_type": "code",
   "execution_count": 52,
   "metadata": {},
   "outputs": [
    {
     "data": {
      "text/html": [
       "<div>\n",
       "<style scoped>\n",
       "    .dataframe tbody tr th:only-of-type {\n",
       "        vertical-align: middle;\n",
       "    }\n",
       "\n",
       "    .dataframe tbody tr th {\n",
       "        vertical-align: top;\n",
       "    }\n",
       "\n",
       "    .dataframe thead th {\n",
       "        text-align: right;\n",
       "    }\n",
       "</style>\n",
       "<table border=\"1\" class=\"dataframe\">\n",
       "  <thead>\n",
       "    <tr style=\"text-align: right;\">\n",
       "      <th></th>\n",
       "      <th>id</th>\n",
       "      <th>date</th>\n",
       "      <th>text</th>\n",
       "      <th>retweet_count</th>\n",
       "      <th>lang</th>\n",
       "      <th>class</th>\n",
       "    </tr>\n",
       "  </thead>\n",
       "  <tbody>\n",
       "    <tr>\n",
       "      <th>2458961</th>\n",
       "      <td>1241765178967879681</td>\n",
       "      <td>Sun Mar 22 16:34:24 +0000 2020</td>\n",
       "      <td>RT @yennikwok: Taiwan health officials said th...</td>\n",
       "      <td>4329</td>\n",
       "      <td>en</td>\n",
       "      <td>[0.0, 0.23306451612903226, 0.0, 0.226612903225...</td>\n",
       "    </tr>\n",
       "    <tr>\n",
       "      <th>2465546</th>\n",
       "      <td>1241758750412812289</td>\n",
       "      <td>Sun Mar 22 16:08:51 +0000 2020</td>\n",
       "      <td>RT @fema: ⚠ Due to the large amount of specula...</td>\n",
       "      <td>5437</td>\n",
       "      <td>en</td>\n",
       "      <td>[0.0, 0.0, 0.0, 0.05858854860186419, 0.0, 0.08...</td>\n",
       "    </tr>\n",
       "    <tr>\n",
       "      <th>3667753</th>\n",
       "      <td>1241749461065441282</td>\n",
       "      <td>Sun Mar 22 15:31:56 +0000 2020</td>\n",
       "      <td>RT @LindaKasonde: For Catholics who want to wa...</td>\n",
       "      <td>16</td>\n",
       "      <td>en</td>\n",
       "      <td>[0.0, 0.32407407407407407, 0.0, 0.318518518518...</td>\n",
       "    </tr>\n",
       "    <tr>\n",
       "      <th>2987373</th>\n",
       "      <td>1241711894378905602</td>\n",
       "      <td>Sun Mar 22 13:02:40 +0000 2020</td>\n",
       "      <td>RT @silv24: I volunteered to do this. The cons...</td>\n",
       "      <td>3020</td>\n",
       "      <td>en</td>\n",
       "      <td>[0.0, 0.2944033302497687, 0.0, 0.0143385753931...</td>\n",
       "    </tr>\n",
       "    <tr>\n",
       "      <th>2290313</th>\n",
       "      <td>1241687126166712320</td>\n",
       "      <td>Sun Mar 22 11:24:14 +0000 2020</td>\n",
       "      <td>RT @SaveOurSparrows: @Skyline73446331 My Windo...</td>\n",
       "      <td>2</td>\n",
       "      <td>en</td>\n",
       "      <td>[0.0, 0.0, 0.0, 0.0, 0.619200734956362, 0.0863...</td>\n",
       "    </tr>\n",
       "  </tbody>\n",
       "</table>\n",
       "</div>"
      ],
      "text/plain": [
       "                          id                            date  \\\n",
       "2458961  1241765178967879681  Sun Mar 22 16:34:24 +0000 2020   \n",
       "2465546  1241758750412812289  Sun Mar 22 16:08:51 +0000 2020   \n",
       "3667753  1241749461065441282  Sun Mar 22 15:31:56 +0000 2020   \n",
       "2987373  1241711894378905602  Sun Mar 22 13:02:40 +0000 2020   \n",
       "2290313  1241687126166712320  Sun Mar 22 11:24:14 +0000 2020   \n",
       "\n",
       "                                                      text  retweet_count  \\\n",
       "2458961  RT @yennikwok: Taiwan health officials said th...           4329   \n",
       "2465546  RT @fema: ⚠ Due to the large amount of specula...           5437   \n",
       "3667753  RT @LindaKasonde: For Catholics who want to wa...             16   \n",
       "2987373  RT @silv24: I volunteered to do this. The cons...           3020   \n",
       "2290313  RT @SaveOurSparrows: @Skyline73446331 My Windo...              2   \n",
       "\n",
       "        lang                                              class  \n",
       "2458961   en  [0.0, 0.23306451612903226, 0.0, 0.226612903225...  \n",
       "2465546   en  [0.0, 0.0, 0.0, 0.05858854860186419, 0.0, 0.08...  \n",
       "3667753   en  [0.0, 0.32407407407407407, 0.0, 0.318518518518...  \n",
       "2987373   en  [0.0, 0.2944033302497687, 0.0, 0.0143385753931...  \n",
       "2290313   en  [0.0, 0.0, 0.0, 0.0, 0.619200734956362, 0.0863...  "
      ]
     },
     "execution_count": 52,
     "metadata": {},
     "output_type": "execute_result"
    }
   ],
   "source": [
    "data.head()"
   ]
  },
  {
   "cell_type": "code",
   "execution_count": 53,
   "metadata": {},
   "outputs": [],
   "source": [
    "def filter_tweets(label):\n",
    "    if sum(label) != 0:\n",
    "        new = [x>0.7 for x in label]\n",
    "        i = iter(new)\n",
    "        return any(i) and not any(i)\n",
    "    return False"
   ]
  },
  {
   "cell_type": "code",
   "execution_count": 54,
   "metadata": {},
   "outputs": [],
   "source": [
    "data['training'] = data['class'].apply(lambda x: filter_tweets(x))"
   ]
  },
  {
   "cell_type": "code",
   "execution_count": 55,
   "metadata": {},
   "outputs": [
    {
     "data": {
      "text/html": [
       "<div>\n",
       "<style scoped>\n",
       "    .dataframe tbody tr th:only-of-type {\n",
       "        vertical-align: middle;\n",
       "    }\n",
       "\n",
       "    .dataframe tbody tr th {\n",
       "        vertical-align: top;\n",
       "    }\n",
       "\n",
       "    .dataframe thead th {\n",
       "        text-align: right;\n",
       "    }\n",
       "</style>\n",
       "<table border=\"1\" class=\"dataframe\">\n",
       "  <thead>\n",
       "    <tr style=\"text-align: right;\">\n",
       "      <th></th>\n",
       "      <th>id</th>\n",
       "      <th>date</th>\n",
       "      <th>text</th>\n",
       "      <th>retweet_count</th>\n",
       "      <th>lang</th>\n",
       "      <th>class</th>\n",
       "    </tr>\n",
       "    <tr>\n",
       "      <th>training</th>\n",
       "      <th></th>\n",
       "      <th></th>\n",
       "      <th></th>\n",
       "      <th></th>\n",
       "      <th></th>\n",
       "      <th></th>\n",
       "    </tr>\n",
       "  </thead>\n",
       "  <tbody>\n",
       "    <tr>\n",
       "      <th>False</th>\n",
       "      <td>40632</td>\n",
       "      <td>40632</td>\n",
       "      <td>40632</td>\n",
       "      <td>40632</td>\n",
       "      <td>40632</td>\n",
       "      <td>40632</td>\n",
       "    </tr>\n",
       "    <tr>\n",
       "      <th>True</th>\n",
       "      <td>9368</td>\n",
       "      <td>9368</td>\n",
       "      <td>9368</td>\n",
       "      <td>9368</td>\n",
       "      <td>9368</td>\n",
       "      <td>9368</td>\n",
       "    </tr>\n",
       "  </tbody>\n",
       "</table>\n",
       "</div>"
      ],
      "text/plain": [
       "             id   date   text  retweet_count   lang  class\n",
       "training                                                  \n",
       "False     40632  40632  40632          40632  40632  40632\n",
       "True       9368   9368   9368           9368   9368   9368"
      ]
     },
     "execution_count": 55,
     "metadata": {},
     "output_type": "execute_result"
    }
   ],
   "source": [
    "data.groupby('training').count()"
   ]
  },
  {
   "cell_type": "code",
   "execution_count": 56,
   "metadata": {},
   "outputs": [],
   "source": [
    "train_data = data[data.training]"
   ]
  },
  {
   "cell_type": "code",
   "execution_count": 57,
   "metadata": {},
   "outputs": [
    {
     "data": {
      "text/plain": [
       "(9368, 7)"
      ]
     },
     "execution_count": 57,
     "metadata": {},
     "output_type": "execute_result"
    }
   ],
   "source": [
    "train_data.shape"
   ]
  },
  {
   "cell_type": "code",
   "execution_count": 62,
   "metadata": {},
   "outputs": [],
   "source": [
    "train_data[['id', 'date', 'text', 'retweet_count', 'lang', 'class','label']].to_csv('/home/assem/Training data/Trained_binary_v2/training_50.csv', index=False)"
   ]
  },
  {
   "cell_type": "markdown",
   "metadata": {},
   "source": [
    "## Merge training data tables"
   ]
  },
  {
   "cell_type": "code",
   "execution_count": 60,
   "metadata": {},
   "outputs": [],
   "source": [
    "data1 = pd.read_csv('/home/assem/Training data/Trained_binary_v2/training_0.csv')\n",
    "data2 = pd.read_csv('/home/assem/Training data/Trained_binary_v2/training_10.csv')\n",
    "data3 = pd.read_csv('/home/assem/Training data/Trained_binary_v2/training_20.csv')\n",
    "data4 = pd.read_csv('/home/assem/Training data/Trained_binary_v2/training_30.csv')\n",
    "data5 = pd.read_csv('/home/assem/Training data/Trained_binary_v2/training_40.csv')\n",
    "data6 = pd.read_csv('/home/assem/Training data/Trained_binary_v2/training_50.csv')\n",
    "data7 = pd.read_csv('/home/assem/Training data/Trained_binary_v2/training_60.csv')\n",
    "data8 = pd.read_csv('/home/assem/Training data/Trained_binary_v2/training_70.csv')\n",
    "data9 = pd.read_csv('/home/assem/Training data/Trained_binary_v2/training_80.csv')"
   ]
  },
  {
   "cell_type": "code",
   "execution_count": 61,
   "metadata": {},
   "outputs": [],
   "source": [
    "frames = [data1, data2, data3,data4,data5,data6,data7,data8,data9]\n",
    "train_data = pd.concat(frames)"
   ]
  },
  {
   "cell_type": "code",
   "execution_count": 62,
   "metadata": {},
   "outputs": [],
   "source": [
    "train_data['class'] = train_data['class'].astype(str)"
   ]
  },
  {
   "cell_type": "code",
   "execution_count": 63,
   "metadata": {},
   "outputs": [
    {
     "data": {
      "text/plain": [
       "'[0.         0.         0.         0.         0.17235189 0.\\n 0.         0.82764811]'"
      ]
     },
     "execution_count": 63,
     "metadata": {},
     "output_type": "execute_result"
    }
   ],
   "source": [
    "train_data.head()['class'][4]"
   ]
  },
  {
   "cell_type": "code",
   "execution_count": 64,
   "metadata": {},
   "outputs": [],
   "source": [
    "from ast import literal_eval\n",
    "train_data['class'] = train_data['class'].apply(lambda x: \n",
    "                           np.fromstring(\n",
    "                               x.replace('\\n','')\n",
    "                                .replace('[','')\n",
    "                                .replace(']','')\n",
    "                                .replace('  ',' '), sep=' '))"
   ]
  },
  {
   "cell_type": "code",
   "execution_count": 65,
   "metadata": {},
   "outputs": [],
   "source": [
    " def label(class_list):\n",
    "    for i, e in enumerate(class_list):\n",
    "        if e == max(class_list):\n",
    "            if i == 0:\n",
    "                return 'anger'\n",
    "            elif i == 1:\n",
    "                return 'anticipation'\n",
    "            elif i == 2:\n",
    "                return 'disgust'\n",
    "            elif i == 3:\n",
    "                return 'fear'\n",
    "            elif i == 4:\n",
    "                return 'joy'\n",
    "            elif i == 5:\n",
    "                return 'sadness'\n",
    "            elif i == 6:\n",
    "                return 'surprise'\n",
    "            elif i == 7:\n",
    "                return 'trust'"
   ]
  },
  {
   "cell_type": "code",
   "execution_count": 66,
   "metadata": {},
   "outputs": [],
   "source": [
    "train_data['label'] = train_data['class'].apply(lambda x: label(x))"
   ]
  },
  {
   "cell_type": "code",
   "execution_count": 67,
   "metadata": {},
   "outputs": [
    {
     "data": {
      "text/html": [
       "<div>\n",
       "<style scoped>\n",
       "    .dataframe tbody tr th:only-of-type {\n",
       "        vertical-align: middle;\n",
       "    }\n",
       "\n",
       "    .dataframe tbody tr th {\n",
       "        vertical-align: top;\n",
       "    }\n",
       "\n",
       "    .dataframe thead th {\n",
       "        text-align: right;\n",
       "    }\n",
       "</style>\n",
       "<table border=\"1\" class=\"dataframe\">\n",
       "  <thead>\n",
       "    <tr style=\"text-align: right;\">\n",
       "      <th></th>\n",
       "      <th>id</th>\n",
       "      <th>date</th>\n",
       "      <th>text</th>\n",
       "      <th>retweet_count</th>\n",
       "      <th>lang</th>\n",
       "      <th>class</th>\n",
       "    </tr>\n",
       "    <tr>\n",
       "      <th>label</th>\n",
       "      <th></th>\n",
       "      <th></th>\n",
       "      <th></th>\n",
       "      <th></th>\n",
       "      <th></th>\n",
       "      <th></th>\n",
       "    </tr>\n",
       "  </thead>\n",
       "  <tbody>\n",
       "    <tr>\n",
       "      <th>anger</th>\n",
       "      <td>2256</td>\n",
       "      <td>2256</td>\n",
       "      <td>2256</td>\n",
       "      <td>2256</td>\n",
       "      <td>2256</td>\n",
       "      <td>2256</td>\n",
       "    </tr>\n",
       "    <tr>\n",
       "      <th>anticipation</th>\n",
       "      <td>9257</td>\n",
       "      <td>9257</td>\n",
       "      <td>9257</td>\n",
       "      <td>9257</td>\n",
       "      <td>9257</td>\n",
       "      <td>9257</td>\n",
       "    </tr>\n",
       "    <tr>\n",
       "      <th>disgust</th>\n",
       "      <td>3755</td>\n",
       "      <td>3755</td>\n",
       "      <td>3755</td>\n",
       "      <td>3755</td>\n",
       "      <td>3755</td>\n",
       "      <td>3755</td>\n",
       "    </tr>\n",
       "    <tr>\n",
       "      <th>fear</th>\n",
       "      <td>14241</td>\n",
       "      <td>14241</td>\n",
       "      <td>14241</td>\n",
       "      <td>14241</td>\n",
       "      <td>14241</td>\n",
       "      <td>14241</td>\n",
       "    </tr>\n",
       "    <tr>\n",
       "      <th>joy</th>\n",
       "      <td>13368</td>\n",
       "      <td>13368</td>\n",
       "      <td>13368</td>\n",
       "      <td>13368</td>\n",
       "      <td>13368</td>\n",
       "      <td>13368</td>\n",
       "    </tr>\n",
       "    <tr>\n",
       "      <th>sadness</th>\n",
       "      <td>11656</td>\n",
       "      <td>11656</td>\n",
       "      <td>11656</td>\n",
       "      <td>11656</td>\n",
       "      <td>11656</td>\n",
       "      <td>11656</td>\n",
       "    </tr>\n",
       "    <tr>\n",
       "      <th>surprise</th>\n",
       "      <td>2854</td>\n",
       "      <td>2854</td>\n",
       "      <td>2854</td>\n",
       "      <td>2854</td>\n",
       "      <td>2854</td>\n",
       "      <td>2854</td>\n",
       "    </tr>\n",
       "    <tr>\n",
       "      <th>trust</th>\n",
       "      <td>26563</td>\n",
       "      <td>26563</td>\n",
       "      <td>26563</td>\n",
       "      <td>26563</td>\n",
       "      <td>26563</td>\n",
       "      <td>26563</td>\n",
       "    </tr>\n",
       "  </tbody>\n",
       "</table>\n",
       "</div>"
      ],
      "text/plain": [
       "                 id   date   text  retweet_count   lang  class\n",
       "label                                                         \n",
       "anger          2256   2256   2256           2256   2256   2256\n",
       "anticipation   9257   9257   9257           9257   9257   9257\n",
       "disgust        3755   3755   3755           3755   3755   3755\n",
       "fear          14241  14241  14241          14241  14241  14241\n",
       "joy           13368  13368  13368          13368  13368  13368\n",
       "sadness       11656  11656  11656          11656  11656  11656\n",
       "surprise       2854   2854   2854           2854   2854   2854\n",
       "trust         26563  26563  26563          26563  26563  26563"
      ]
     },
     "execution_count": 67,
     "metadata": {},
     "output_type": "execute_result"
    }
   ],
   "source": [
    "train_data.groupby('label').count()"
   ]
  },
  {
   "cell_type": "code",
   "execution_count": 68,
   "metadata": {
    "scrolled": true
   },
   "outputs": [
    {
     "data": {
      "text/html": [
       "<div>\n",
       "<style scoped>\n",
       "    .dataframe tbody tr th:only-of-type {\n",
       "        vertical-align: middle;\n",
       "    }\n",
       "\n",
       "    .dataframe tbody tr th {\n",
       "        vertical-align: top;\n",
       "    }\n",
       "\n",
       "    .dataframe thead th {\n",
       "        text-align: right;\n",
       "    }\n",
       "</style>\n",
       "<table border=\"1\" class=\"dataframe\">\n",
       "  <thead>\n",
       "    <tr style=\"text-align: right;\">\n",
       "      <th></th>\n",
       "      <th>id</th>\n",
       "      <th>date</th>\n",
       "      <th>text</th>\n",
       "      <th>retweet_count</th>\n",
       "      <th>lang</th>\n",
       "      <th>class</th>\n",
       "      <th>label</th>\n",
       "    </tr>\n",
       "  </thead>\n",
       "  <tbody>\n",
       "    <tr>\n",
       "      <th>0</th>\n",
       "      <td>1223635894629855233</td>\n",
       "      <td>Sat Feb 01 15:55:05 +0000 2020</td>\n",
       "      <td>RT @ezracheungtoto: US denies entry to all tho...</td>\n",
       "      <td>1349</td>\n",
       "      <td>en</td>\n",
       "      <td>[0.70873786, 0.0, 0.0, 0.0, 0.0, 0.0, 0.0, 0.2...</td>\n",
       "      <td>anger</td>\n",
       "    </tr>\n",
       "    <tr>\n",
       "      <th>1</th>\n",
       "      <td>1245935880243535874</td>\n",
       "      <td>Fri Apr 03 04:47:16 +0000 2020</td>\n",
       "      <td>RT @DailyMailUK: Over 1,500 ventilators could ...</td>\n",
       "      <td>9</td>\n",
       "      <td>en</td>\n",
       "      <td>[0.77444444, 0.0, 0.0, 0.22555556, 0.0, 0.0, 0...</td>\n",
       "      <td>anger</td>\n",
       "    </tr>\n",
       "    <tr>\n",
       "      <th>2</th>\n",
       "      <td>1227255974450356229</td>\n",
       "      <td>Tue Feb 11 15:40:00 +0000 2020</td>\n",
       "      <td>Coronavirus to hit companies and consumers aro...</td>\n",
       "      <td>0</td>\n",
       "      <td>en</td>\n",
       "      <td>[1.0, 0.0, 0.0, 0.0, 0.0, 0.0, 0.0, 0.0]</td>\n",
       "      <td>anger</td>\n",
       "    </tr>\n",
       "    <tr>\n",
       "      <th>3</th>\n",
       "      <td>1223703956930433025</td>\n",
       "      <td>Sat Feb 01 20:25:33 +0000 2020</td>\n",
       "      <td>RT @ezracheungtoto: US denies entry to all tho...</td>\n",
       "      <td>1349</td>\n",
       "      <td>en</td>\n",
       "      <td>[0.70873786, 0.0, 0.0, 0.0, 0.0, 0.0, 0.0, 0.2...</td>\n",
       "      <td>anger</td>\n",
       "    </tr>\n",
       "    <tr>\n",
       "      <th>4</th>\n",
       "      <td>1230662859480236032</td>\n",
       "      <td>Fri Feb 21 01:17:44 +0000 2020</td>\n",
       "      <td>RT @RonaldKlain: Is anyone in charge of this r...</td>\n",
       "      <td>1237</td>\n",
       "      <td>en</td>\n",
       "      <td>[1.0, 0.0, 0.0, 0.0, 0.0, 0.0, 0.0, 0.0]</td>\n",
       "      <td>anger</td>\n",
       "    </tr>\n",
       "    <tr>\n",
       "      <th>...</th>\n",
       "      <td>...</td>\n",
       "      <td>...</td>\n",
       "      <td>...</td>\n",
       "      <td>...</td>\n",
       "      <td>...</td>\n",
       "      <td>...</td>\n",
       "      <td>...</td>\n",
       "    </tr>\n",
       "    <tr>\n",
       "      <th>18043</th>\n",
       "      <td>1249708335512903681</td>\n",
       "      <td>Mon Apr 13 14:37:40 +0000 2020</td>\n",
       "      <td>RT @Jeffers28083958: If we are truly serious a...</td>\n",
       "      <td>72</td>\n",
       "      <td>en</td>\n",
       "      <td>[0.0, 0.0, 0.0, 0.0, 0.28571429, 0.0, 0.0, 0.7...</td>\n",
       "      <td>trust</td>\n",
       "    </tr>\n",
       "    <tr>\n",
       "      <th>18044</th>\n",
       "      <td>1241875255875883009</td>\n",
       "      <td>Sun Mar 22 23:51:48 +0000 2020</td>\n",
       "      <td>RT @rajeev_mp: The #CoronaVirus protectors 🙏🏻🙏...</td>\n",
       "      <td>2883</td>\n",
       "      <td>en</td>\n",
       "      <td>[0.0, 0.0, 0.0, 0.0, 0.0, 0.0, 0.0, 1.0]</td>\n",
       "      <td>trust</td>\n",
       "    </tr>\n",
       "    <tr>\n",
       "      <th>18045</th>\n",
       "      <td>1241576941250990080</td>\n",
       "      <td>Sun Mar 22 04:06:24 +0000 2020</td>\n",
       "      <td>RT @narendramodi: In a few minutes from now, t...</td>\n",
       "      <td>11777</td>\n",
       "      <td>en</td>\n",
       "      <td>[0.0, 0.0, 0.0, 0.0, 0.0, 0.0, 0.0, 1.0]</td>\n",
       "      <td>trust</td>\n",
       "    </tr>\n",
       "    <tr>\n",
       "      <th>18046</th>\n",
       "      <td>1241558032615694337</td>\n",
       "      <td>Sun Mar 22 02:51:16 +0000 2020</td>\n",
       "      <td>RT @AdiBacelar: After this is all over, please...</td>\n",
       "      <td>37589</td>\n",
       "      <td>en</td>\n",
       "      <td>[0.0, 0.0, 0.0, 0.288, 0.0, 0.0, 0.0, 0.712]</td>\n",
       "      <td>trust</td>\n",
       "    </tr>\n",
       "    <tr>\n",
       "      <th>18047</th>\n",
       "      <td>1223556219853471744</td>\n",
       "      <td>Sat Feb 01 10:38:30 +0000 2020</td>\n",
       "      <td>RT @CathayPak: (6/11)WHO chief:No reason for m...</td>\n",
       "      <td>10</td>\n",
       "      <td>en</td>\n",
       "      <td>[0.0, 0.0, 0.0, 0.0, 0.22621681, 0.0, 0.0, 0.7...</td>\n",
       "      <td>trust</td>\n",
       "    </tr>\n",
       "  </tbody>\n",
       "</table>\n",
       "<p>18048 rows × 7 columns</p>\n",
       "</div>"
      ],
      "text/plain": [
       "                        id                            date  \\\n",
       "0      1223635894629855233  Sat Feb 01 15:55:05 +0000 2020   \n",
       "1      1245935880243535874  Fri Apr 03 04:47:16 +0000 2020   \n",
       "2      1227255974450356229  Tue Feb 11 15:40:00 +0000 2020   \n",
       "3      1223703956930433025  Sat Feb 01 20:25:33 +0000 2020   \n",
       "4      1230662859480236032  Fri Feb 21 01:17:44 +0000 2020   \n",
       "...                    ...                             ...   \n",
       "18043  1249708335512903681  Mon Apr 13 14:37:40 +0000 2020   \n",
       "18044  1241875255875883009  Sun Mar 22 23:51:48 +0000 2020   \n",
       "18045  1241576941250990080  Sun Mar 22 04:06:24 +0000 2020   \n",
       "18046  1241558032615694337  Sun Mar 22 02:51:16 +0000 2020   \n",
       "18047  1223556219853471744  Sat Feb 01 10:38:30 +0000 2020   \n",
       "\n",
       "                                                    text retweet_count lang  \\\n",
       "0      RT @ezracheungtoto: US denies entry to all tho...          1349   en   \n",
       "1      RT @DailyMailUK: Over 1,500 ventilators could ...             9   en   \n",
       "2      Coronavirus to hit companies and consumers aro...             0   en   \n",
       "3      RT @ezracheungtoto: US denies entry to all tho...          1349   en   \n",
       "4      RT @RonaldKlain: Is anyone in charge of this r...          1237   en   \n",
       "...                                                  ...           ...  ...   \n",
       "18043  RT @Jeffers28083958: If we are truly serious a...            72   en   \n",
       "18044  RT @rajeev_mp: The #CoronaVirus protectors 🙏🏻🙏...          2883   en   \n",
       "18045  RT @narendramodi: In a few minutes from now, t...         11777   en   \n",
       "18046  RT @AdiBacelar: After this is all over, please...         37589   en   \n",
       "18047  RT @CathayPak: (6/11)WHO chief:No reason for m...            10   en   \n",
       "\n",
       "                                                   class  label  \n",
       "0      [0.70873786, 0.0, 0.0, 0.0, 0.0, 0.0, 0.0, 0.2...  anger  \n",
       "1      [0.77444444, 0.0, 0.0, 0.22555556, 0.0, 0.0, 0...  anger  \n",
       "2               [1.0, 0.0, 0.0, 0.0, 0.0, 0.0, 0.0, 0.0]  anger  \n",
       "3      [0.70873786, 0.0, 0.0, 0.0, 0.0, 0.0, 0.0, 0.2...  anger  \n",
       "4               [1.0, 0.0, 0.0, 0.0, 0.0, 0.0, 0.0, 0.0]  anger  \n",
       "...                                                  ...    ...  \n",
       "18043  [0.0, 0.0, 0.0, 0.0, 0.28571429, 0.0, 0.0, 0.7...  trust  \n",
       "18044           [0.0, 0.0, 0.0, 0.0, 0.0, 0.0, 0.0, 1.0]  trust  \n",
       "18045           [0.0, 0.0, 0.0, 0.0, 0.0, 0.0, 0.0, 1.0]  trust  \n",
       "18046       [0.0, 0.0, 0.0, 0.288, 0.0, 0.0, 0.0, 0.712]  trust  \n",
       "18047  [0.0, 0.0, 0.0, 0.0, 0.22621681, 0.0, 0.0, 0.7...  trust  \n",
       "\n",
       "[18048 rows x 7 columns]"
      ]
     },
     "execution_count": 68,
     "metadata": {},
     "output_type": "execute_result"
    }
   ],
   "source": [
    "train_data.groupby('label').apply(lambda x: x.sample(2256)).reset_index(drop=True)"
   ]
  },
  {
   "cell_type": "code",
   "execution_count": 69,
   "metadata": {},
   "outputs": [],
   "source": [
    "def new_label(probs):\n",
    "    c = probs.copy()\n",
    "    c[c>=0.7]=1\n",
    "    c[c<0.7]=0\n",
    "    return c\n",
    "train_data['class'] = train_data['class'].map(lambda x: new_label(x))"
   ]
  },
  {
   "cell_type": "code",
   "execution_count": 70,
   "metadata": {},
   "outputs": [
    {
     "data": {
      "text/html": [
       "<div>\n",
       "<style scoped>\n",
       "    .dataframe tbody tr th:only-of-type {\n",
       "        vertical-align: middle;\n",
       "    }\n",
       "\n",
       "    .dataframe tbody tr th {\n",
       "        vertical-align: top;\n",
       "    }\n",
       "\n",
       "    .dataframe thead th {\n",
       "        text-align: right;\n",
       "    }\n",
       "</style>\n",
       "<table border=\"1\" class=\"dataframe\">\n",
       "  <thead>\n",
       "    <tr style=\"text-align: right;\">\n",
       "      <th></th>\n",
       "      <th>id</th>\n",
       "      <th>date</th>\n",
       "      <th>text</th>\n",
       "      <th>retweet_count</th>\n",
       "      <th>lang</th>\n",
       "      <th>class</th>\n",
       "      <th>label</th>\n",
       "    </tr>\n",
       "  </thead>\n",
       "  <tbody>\n",
       "    <tr>\n",
       "      <th>0</th>\n",
       "      <td>1223402111590981632</td>\n",
       "      <td>Sat Feb 01 00:26:07 +0000 2020</td>\n",
       "      <td>RT @marceldirsus: This is an absolute nightmar...</td>\n",
       "      <td>44</td>\n",
       "      <td>en</td>\n",
       "      <td>[0.0, 0.0, 0.0, 1.0, 0.0, 0.0, 0.0, 0.0]</td>\n",
       "      <td>fear</td>\n",
       "    </tr>\n",
       "    <tr>\n",
       "      <th>1</th>\n",
       "      <td>1223597697766002690</td>\n",
       "      <td>Sat Feb 01 13:23:19 +0000 2020</td>\n",
       "      <td>RT @magister_ella: #OUSTLENI2020 is more proba...</td>\n",
       "      <td>104</td>\n",
       "      <td>en</td>\n",
       "      <td>[0.0, 0.0, 0.0, 0.0, 0.0, 0.0, 1.0, 0.0]</td>\n",
       "      <td>surprise</td>\n",
       "    </tr>\n",
       "    <tr>\n",
       "      <th>2</th>\n",
       "      <td>1223563576536748032</td>\n",
       "      <td>Sat Feb 01 11:07:44 +0000 2020</td>\n",
       "      <td>RT @NetworksManager: Apparently this story is ...</td>\n",
       "      <td>91</td>\n",
       "      <td>en</td>\n",
       "      <td>[0.0, 0.0, 0.0, 0.0, 0.0, 0.0, 0.0, 1.0]</td>\n",
       "      <td>trust</td>\n",
       "    </tr>\n",
       "    <tr>\n",
       "      <th>3</th>\n",
       "      <td>1223743319429259264</td>\n",
       "      <td>Sat Feb 01 23:01:58 +0000 2020</td>\n",
       "      <td>fuckfuckfuck there’s a suspected case of the c...</td>\n",
       "      <td>0</td>\n",
       "      <td>en</td>\n",
       "      <td>[0.0, 0.0, 0.0, 1.0, 0.0, 0.0, 0.0, 0.0]</td>\n",
       "      <td>fear</td>\n",
       "    </tr>\n",
       "    <tr>\n",
       "      <th>4</th>\n",
       "      <td>1223607627172573184</td>\n",
       "      <td>Sat Feb 01 14:02:46 +0000 2020</td>\n",
       "      <td>RT @KKMPutrajaya: Dear all, \\n\\nWe have create...</td>\n",
       "      <td>4315</td>\n",
       "      <td>en</td>\n",
       "      <td>[0.0, 0.0, 0.0, 0.0, 0.0, 0.0, 0.0, 1.0]</td>\n",
       "      <td>trust</td>\n",
       "    </tr>\n",
       "  </tbody>\n",
       "</table>\n",
       "</div>"
      ],
      "text/plain": [
       "                    id                            date  \\\n",
       "0  1223402111590981632  Sat Feb 01 00:26:07 +0000 2020   \n",
       "1  1223597697766002690  Sat Feb 01 13:23:19 +0000 2020   \n",
       "2  1223563576536748032  Sat Feb 01 11:07:44 +0000 2020   \n",
       "3  1223743319429259264  Sat Feb 01 23:01:58 +0000 2020   \n",
       "4  1223607627172573184  Sat Feb 01 14:02:46 +0000 2020   \n",
       "\n",
       "                                                text retweet_count lang  \\\n",
       "0  RT @marceldirsus: This is an absolute nightmar...            44   en   \n",
       "1  RT @magister_ella: #OUSTLENI2020 is more proba...           104   en   \n",
       "2  RT @NetworksManager: Apparently this story is ...            91   en   \n",
       "3  fuckfuckfuck there’s a suspected case of the c...             0   en   \n",
       "4  RT @KKMPutrajaya: Dear all, \\n\\nWe have create...          4315   en   \n",
       "\n",
       "                                      class     label  \n",
       "0  [0.0, 0.0, 0.0, 1.0, 0.0, 0.0, 0.0, 0.0]      fear  \n",
       "1  [0.0, 0.0, 0.0, 0.0, 0.0, 0.0, 1.0, 0.0]  surprise  \n",
       "2  [0.0, 0.0, 0.0, 0.0, 0.0, 0.0, 0.0, 1.0]     trust  \n",
       "3  [0.0, 0.0, 0.0, 1.0, 0.0, 0.0, 0.0, 0.0]      fear  \n",
       "4  [0.0, 0.0, 0.0, 0.0, 0.0, 0.0, 0.0, 1.0]     trust  "
      ]
     },
     "execution_count": 70,
     "metadata": {},
     "output_type": "execute_result"
    }
   ],
   "source": [
    "train_data.head()"
   ]
  },
  {
   "cell_type": "markdown",
   "metadata": {},
   "source": [
    "# Classifier\n",
    "\n",
    "https://github.com/susanli2016/NLP-with-Python/blob/master/Text%20Classification%20model%20selection.ipynb"
   ]
  },
  {
   "cell_type": "code",
   "execution_count": 71,
   "metadata": {},
   "outputs": [],
   "source": [
    "import logging\n",
    "import pandas as pd\n",
    "import numpy as np\n",
    "from numpy import random\n",
    "import gensim\n",
    "import nltk\n",
    "from sklearn.model_selection import train_test_split\n",
    "from sklearn.feature_extraction.text import CountVectorizer, TfidfVectorizer\n",
    "from sklearn.metrics import accuracy_score, confusion_matrix\n",
    "import matplotlib.pyplot as plt\n",
    "from nltk.corpus import stopwords\n",
    "import re\n",
    "from bs4 import BeautifulSoup\n",
    "from gensim.utils import simple_preprocess"
   ]
  },
  {
   "cell_type": "code",
   "execution_count": 72,
   "metadata": {},
   "outputs": [],
   "source": [
    "STOPWORDS = set(stopwords.words('english'))"
   ]
  },
  {
   "cell_type": "code",
   "execution_count": 73,
   "metadata": {},
   "outputs": [],
   "source": [
    "train_data['text'] = train_data['text'].apply(preprocess_tweets)"
   ]
  },
  {
   "cell_type": "code",
   "execution_count": 78,
   "metadata": {},
   "outputs": [
    {
     "data": {
      "text/plain": [
       "id               0.000000\n",
       "date             0.000000\n",
       "text             0.000000\n",
       "retweet_count    0.000012\n",
       "lang             0.000012\n",
       "class            0.000000\n",
       "label            0.000024\n",
       "dtype: float64"
      ]
     },
     "execution_count": 78,
     "metadata": {},
     "output_type": "execute_result"
    }
   ],
   "source": [
    "train_data.isnull().mean()"
   ]
  },
  {
   "cell_type": "code",
   "execution_count": 79,
   "metadata": {},
   "outputs": [],
   "source": [
    "train_data = train_data.dropna(subset=['label'])"
   ]
  },
  {
   "cell_type": "code",
   "execution_count": 80,
   "metadata": {},
   "outputs": [],
   "source": [
    "X = train_data.text\n",
    "y = train_data.label.values\n",
    "X_train, X_test, y_train, y_test = train_test_split(X, y, test_size=0.3, random_state = 42)\n"
   ]
  },
  {
   "cell_type": "markdown",
   "metadata": {},
   "source": [
    "## Logistic regression¶\n"
   ]
  },
  {
   "cell_type": "markdown",
   "metadata": {},
   "source": [
    "https://github.com/nkartik94/Multi-Label-Text-Classification/blob/master/Mark_6.ipynb"
   ]
  },
  {
   "cell_type": "code",
   "execution_count": 81,
   "metadata": {},
   "outputs": [
    {
     "name": "stderr",
     "output_type": "stream",
     "text": [
      "/home/assem/.local/lib/python3.7/site-packages/sklearn/linear_model/_logistic.py:939: ConvergenceWarning: lbfgs failed to converge (status=1):\n",
      "STOP: TOTAL NO. of ITERATIONS REACHED LIMIT.\n",
      "\n",
      "Increase the number of iterations (max_iter) or scale the data as shown in:\n",
      "    https://scikit-learn.org/stable/modules/preprocessing.html.\n",
      "Please also refer to the documentation for alternative solver options:\n",
      "    https://scikit-learn.org/stable/modules/linear_model.html#logistic-regression\n",
      "  extra_warning_msg=_LOGISTIC_SOLVER_CONVERGENCE_MSG)\n"
     ]
    },
    {
     "data": {
      "text/plain": [
       "Pipeline(memory=None,\n",
       "         steps=[('vect',\n",
       "                 CountVectorizer(analyzer='word', binary=False,\n",
       "                                 decode_error='strict',\n",
       "                                 dtype=<class 'numpy.int64'>, encoding='utf-8',\n",
       "                                 input='content', lowercase=True, max_df=1.0,\n",
       "                                 max_features=None, min_df=1,\n",
       "                                 ngram_range=(1, 1), preprocessor=None,\n",
       "                                 stop_words=None, strip_accents=None,\n",
       "                                 token_pattern='(?u)\\\\b\\\\w\\\\w+\\\\b',\n",
       "                                 tokenizer=None, vocabulary=None)),\n",
       "                ('tfidf',\n",
       "                 TfidfTransformer(norm='l2', smooth_idf=True,\n",
       "                                  sublinear_tf=False, use_idf=True)),\n",
       "                ('clf',\n",
       "                 LogisticRegression(C=100000.0, class_weight=None, dual=False,\n",
       "                                    fit_intercept=True, intercept_scaling=1,\n",
       "                                    l1_ratio=None, max_iter=100,\n",
       "                                    multi_class='auto', n_jobs=1, penalty='l2',\n",
       "                                    random_state=None, solver='lbfgs',\n",
       "                                    tol=0.0001, verbose=0, warm_start=False))],\n",
       "         verbose=False)"
      ]
     },
     "execution_count": 81,
     "metadata": {},
     "output_type": "execute_result"
    }
   ],
   "source": [
    "from sklearn.linear_model import LogisticRegression\n",
    "from sklearn.pipeline import Pipeline\n",
    "from sklearn.feature_extraction.text import TfidfTransformer\n",
    "# using classifier chains\n",
    "from skmultilearn.problem_transform import ClassifierChain\n",
    "\n",
    "logreg = Pipeline([('vect', CountVectorizer()),\n",
    "                ('tfidf', TfidfTransformer()),\n",
    "                ('clf', LogisticRegression(n_jobs=1, C=1e5)),\n",
    "               ])\n",
    "logreg.fit(X_train, y_train)"
   ]
  },
  {
   "cell_type": "code",
   "execution_count": 83,
   "metadata": {},
   "outputs": [
    {
     "name": "stdout",
     "output_type": "stream",
     "text": [
      "accuracy 0.936986301369863\n",
      "              precision    recall  f1-score   support\n",
      "\n",
      "       anger       0.89      0.82      0.85       694\n",
      "anticipation       0.94      0.94      0.94      2828\n",
      "     disgust       0.90      0.85      0.87      1103\n",
      "        fear       0.92      0.92      0.92      4307\n",
      "         joy       0.95      0.94      0.94      3976\n",
      "     sadness       0.95      0.96      0.95      3504\n",
      "    surprise       0.88      0.87      0.88       887\n",
      "       trust       0.95      0.97      0.96      7886\n",
      "\n",
      "    accuracy                           0.94     25185\n",
      "   macro avg       0.92      0.91      0.91     25185\n",
      "weighted avg       0.94      0.94      0.94     25185\n",
      "\n",
      "CPU times: user 1.2 s, sys: 24 ms, total: 1.23 s\n",
      "Wall time: 1.22 s\n"
     ]
    }
   ],
   "source": [
    "%%time\n",
    "from sklearn.metrics import classification_report\n",
    "y_pred = logreg.predict(X_test)\n",
    "\n",
    "print('accuracy %s' % accuracy_score(y_pred, y_test))\n",
    "print(classification_report(y_test, y_pred))"
   ]
  },
  {
   "cell_type": "code",
   "execution_count": 113,
   "metadata": {},
   "outputs": [
    {
     "name": "stdout",
     "output_type": "stream",
     "text": [
      "accuracy 0.5122882974659366\n",
      "              precision    recall  f1-score   support\n",
      "\n",
      "       anger       0.58      0.40      0.47       518\n",
      "anticipation       0.05      0.06      0.06       431\n",
      "     disgust       0.08      0.33      0.13        58\n",
      "        fear       0.12      0.50      0.19       157\n",
      "         joy       0.74      0.42      0.53      3989\n",
      "     sadness       0.85      0.78      0.82      2516\n",
      "    surprise       0.01      0.03      0.01        68\n",
      "       trust       0.04      0.41      0.07       116\n",
      "\n",
      "    accuracy                           0.51      7853\n",
      "   macro avg       0.31      0.37      0.29      7853\n",
      "weighted avg       0.69      0.51      0.57      7853\n",
      "\n"
     ]
    }
   ],
   "source": [
    "from sklearn.metrics import classification_report\n",
    "gold['text']=gold['text'].apply(preprocess_tweets)\n",
    "y_pred = logreg.predict(gold.text)\n",
    "\n",
    "print('accuracy %s' % accuracy_score(y_pred, gold.label))\n",
    "print(classification_report(gold.label, y_pred))"
   ]
  },
  {
   "cell_type": "code",
   "execution_count": 86,
   "metadata": {},
   "outputs": [],
   "source": [
    "import pickle\n",
    "# save the model to disk\n",
    "filename = 'logreg_model.sav'\n",
    "pickle.dump(logreg, open(filename, 'wb'))\n",
    " "
   ]
  },
  {
   "cell_type": "markdown",
   "metadata": {},
   "source": [
    "# Combine NLP and Logistic regression"
   ]
  },
  {
   "cell_type": "code",
   "execution_count": 104,
   "metadata": {},
   "outputs": [],
   "source": [
    "def CombinedModel(text):\n",
    "    nlp_labels = hit(text)\n",
    "    ml_labels = logreg.predict_proba([text])\n",
    "    ml_labels[ml_labels==ml_labels.max()] = 1\n",
    "    ml_labels[ml_labels!=ml_labels.max()] = 0\n",
    "    combined_labels = ml_labels[0]*0.1 + nlp_labels\n",
    "    combined_labels = combined_labels/sum(combined_labels)\n",
    "    return combined_labels"
   ]
  },
  {
   "cell_type": "code",
   "execution_count": 278,
   "metadata": {},
   "outputs": [
    {
     "data": {
      "text/plain": [
       "array([1., 0., 0., 0., 0., 0., 0., 0.])"
      ]
     },
     "execution_count": 278,
     "metadata": {},
     "output_type": "execute_result"
    }
   ],
   "source": [
    "CombinedModel(X_test[0])"
   ]
  },
  {
   "cell_type": "code",
   "execution_count": 106,
   "metadata": {},
   "outputs": [
    {
     "data": {
      "text/html": [
       "<div>\n",
       "<style scoped>\n",
       "    .dataframe tbody tr th:only-of-type {\n",
       "        vertical-align: middle;\n",
       "    }\n",
       "\n",
       "    .dataframe tbody tr th {\n",
       "        vertical-align: top;\n",
       "    }\n",
       "\n",
       "    .dataframe thead th {\n",
       "        text-align: right;\n",
       "    }\n",
       "</style>\n",
       "<table border=\"1\" class=\"dataframe\">\n",
       "  <thead>\n",
       "    <tr style=\"text-align: right;\">\n",
       "      <th></th>\n",
       "      <th>Unnamed: 0</th>\n",
       "      <th>id</th>\n",
       "      <th>date</th>\n",
       "      <th>text</th>\n",
       "      <th>retweet_count</th>\n",
       "      <th>lang</th>\n",
       "      <th>subjectivity</th>\n",
       "      <th>preprocessed_text</th>\n",
       "      <th>label</th>\n",
       "    </tr>\n",
       "  </thead>\n",
       "  <tbody>\n",
       "    <tr>\n",
       "      <th>0</th>\n",
       "      <td>0</td>\n",
       "      <td>1251133469444526080</td>\n",
       "      <td>Fri Apr 17 13:00:38 +0000 2020</td>\n",
       "      <td>My daugther (Emily) is turning 10 on Wednesday...</td>\n",
       "      <td>5.0</td>\n",
       "      <td>en</td>\n",
       "      <td>0.687500</td>\n",
       "      <td>my daugther ( emily ) is turning &lt;number&gt; on w...</td>\n",
       "      <td>joy</td>\n",
       "    </tr>\n",
       "    <tr>\n",
       "      <th>1</th>\n",
       "      <td>1</td>\n",
       "      <td>1251842259785564162</td>\n",
       "      <td>Sun Apr 19 11:57:07 +0000 2020</td>\n",
       "      <td>My Cat Scratched me Right When I Was Taking Th...</td>\n",
       "      <td>0.0</td>\n",
       "      <td>en</td>\n",
       "      <td>0.611905</td>\n",
       "      <td>my cat scratched me right when i was taking th...</td>\n",
       "      <td>joy</td>\n",
       "    </tr>\n",
       "    <tr>\n",
       "      <th>2</th>\n",
       "      <td>2</td>\n",
       "      <td>1246411656088993794</td>\n",
       "      <td>Sat Apr 04 12:17:50 +0000 2020</td>\n",
       "      <td>Like #colourful ballons drifting in the sky ou...</td>\n",
       "      <td>0.0</td>\n",
       "      <td>en</td>\n",
       "      <td>0.766667</td>\n",
       "      <td>like #colourful ballons drifting in the sky ou...</td>\n",
       "      <td>joy</td>\n",
       "    </tr>\n",
       "    <tr>\n",
       "      <th>3</th>\n",
       "      <td>3</td>\n",
       "      <td>1252078175544176640</td>\n",
       "      <td>Mon Apr 20 03:34:34 +0000 2020</td>\n",
       "      <td>We should let all these racist trumpies keep p...</td>\n",
       "      <td>0.0</td>\n",
       "      <td>en</td>\n",
       "      <td>1.000000</td>\n",
       "      <td>we should let all these racist trumpies keep p...</td>\n",
       "      <td>joy</td>\n",
       "    </tr>\n",
       "    <tr>\n",
       "      <th>4</th>\n",
       "      <td>4</td>\n",
       "      <td>1252382768857673731</td>\n",
       "      <td>Mon Apr 20 23:44:54 +0000 2020</td>\n",
       "      <td>This pandemic is going to make it reallyyyy ha...</td>\n",
       "      <td>1.0</td>\n",
       "      <td>en</td>\n",
       "      <td>0.558333</td>\n",
       "      <td>this pandemic is going to make it really  hard...</td>\n",
       "      <td>joy</td>\n",
       "    </tr>\n",
       "  </tbody>\n",
       "</table>\n",
       "</div>"
      ],
      "text/plain": [
       "   Unnamed: 0                   id                            date  \\\n",
       "0           0  1251133469444526080  Fri Apr 17 13:00:38 +0000 2020   \n",
       "1           1  1251842259785564162  Sun Apr 19 11:57:07 +0000 2020   \n",
       "2           2  1246411656088993794  Sat Apr 04 12:17:50 +0000 2020   \n",
       "3           3  1252078175544176640  Mon Apr 20 03:34:34 +0000 2020   \n",
       "4           4  1252382768857673731  Mon Apr 20 23:44:54 +0000 2020   \n",
       "\n",
       "                                                text  retweet_count lang  \\\n",
       "0  My daugther (Emily) is turning 10 on Wednesday...            5.0   en   \n",
       "1  My Cat Scratched me Right When I Was Taking Th...            0.0   en   \n",
       "2  Like #colourful ballons drifting in the sky ou...            0.0   en   \n",
       "3  We should let all these racist trumpies keep p...            0.0   en   \n",
       "4  This pandemic is going to make it reallyyyy ha...            1.0   en   \n",
       "\n",
       "   subjectivity                                  preprocessed_text label  \n",
       "0      0.687500  my daugther ( emily ) is turning <number> on w...   joy  \n",
       "1      0.611905  my cat scratched me right when i was taking th...   joy  \n",
       "2      0.766667  like #colourful ballons drifting in the sky ou...   joy  \n",
       "3      1.000000  we should let all these racist trumpies keep p...   joy  \n",
       "4      0.558333  this pandemic is going to make it really  hard...   joy  "
      ]
     },
     "execution_count": 106,
     "metadata": {},
     "output_type": "execute_result"
    }
   ],
   "source": [
    "gold = pd.read_csv('/home/assem/Testing data/test_data.csv')\n",
    "gold.head()"
   ]
  },
  {
   "cell_type": "code",
   "execution_count": 107,
   "metadata": {},
   "outputs": [
    {
     "data": {
      "text/html": [
       "<div>\n",
       "<style scoped>\n",
       "    .dataframe tbody tr th:only-of-type {\n",
       "        vertical-align: middle;\n",
       "    }\n",
       "\n",
       "    .dataframe tbody tr th {\n",
       "        vertical-align: top;\n",
       "    }\n",
       "\n",
       "    .dataframe thead th {\n",
       "        text-align: right;\n",
       "    }\n",
       "</style>\n",
       "<table border=\"1\" class=\"dataframe\">\n",
       "  <thead>\n",
       "    <tr style=\"text-align: right;\">\n",
       "      <th></th>\n",
       "      <th>Unnamed: 0</th>\n",
       "      <th>id</th>\n",
       "      <th>date</th>\n",
       "      <th>text</th>\n",
       "      <th>retweet_count</th>\n",
       "      <th>lang</th>\n",
       "      <th>subjectivity</th>\n",
       "      <th>preprocessed_text</th>\n",
       "    </tr>\n",
       "    <tr>\n",
       "      <th>label</th>\n",
       "      <th></th>\n",
       "      <th></th>\n",
       "      <th></th>\n",
       "      <th></th>\n",
       "      <th></th>\n",
       "      <th></th>\n",
       "      <th></th>\n",
       "      <th></th>\n",
       "    </tr>\n",
       "  </thead>\n",
       "  <tbody>\n",
       "    <tr>\n",
       "      <th>anger</th>\n",
       "      <td>518</td>\n",
       "      <td>518</td>\n",
       "      <td>518</td>\n",
       "      <td>518</td>\n",
       "      <td>518</td>\n",
       "      <td>518</td>\n",
       "      <td>518</td>\n",
       "      <td>518</td>\n",
       "    </tr>\n",
       "    <tr>\n",
       "      <th>anticipation</th>\n",
       "      <td>431</td>\n",
       "      <td>431</td>\n",
       "      <td>431</td>\n",
       "      <td>431</td>\n",
       "      <td>431</td>\n",
       "      <td>431</td>\n",
       "      <td>431</td>\n",
       "      <td>431</td>\n",
       "    </tr>\n",
       "    <tr>\n",
       "      <th>disgust</th>\n",
       "      <td>58</td>\n",
       "      <td>58</td>\n",
       "      <td>58</td>\n",
       "      <td>58</td>\n",
       "      <td>58</td>\n",
       "      <td>58</td>\n",
       "      <td>58</td>\n",
       "      <td>58</td>\n",
       "    </tr>\n",
       "    <tr>\n",
       "      <th>fear</th>\n",
       "      <td>157</td>\n",
       "      <td>157</td>\n",
       "      <td>157</td>\n",
       "      <td>157</td>\n",
       "      <td>157</td>\n",
       "      <td>157</td>\n",
       "      <td>157</td>\n",
       "      <td>157</td>\n",
       "    </tr>\n",
       "    <tr>\n",
       "      <th>joy</th>\n",
       "      <td>3989</td>\n",
       "      <td>3989</td>\n",
       "      <td>3989</td>\n",
       "      <td>3989</td>\n",
       "      <td>3989</td>\n",
       "      <td>3989</td>\n",
       "      <td>3989</td>\n",
       "      <td>3989</td>\n",
       "    </tr>\n",
       "    <tr>\n",
       "      <th>sadness</th>\n",
       "      <td>2516</td>\n",
       "      <td>2516</td>\n",
       "      <td>2516</td>\n",
       "      <td>2516</td>\n",
       "      <td>2516</td>\n",
       "      <td>2516</td>\n",
       "      <td>2516</td>\n",
       "      <td>2516</td>\n",
       "    </tr>\n",
       "    <tr>\n",
       "      <th>surprise</th>\n",
       "      <td>68</td>\n",
       "      <td>68</td>\n",
       "      <td>68</td>\n",
       "      <td>68</td>\n",
       "      <td>68</td>\n",
       "      <td>68</td>\n",
       "      <td>68</td>\n",
       "      <td>68</td>\n",
       "    </tr>\n",
       "    <tr>\n",
       "      <th>trust</th>\n",
       "      <td>116</td>\n",
       "      <td>116</td>\n",
       "      <td>116</td>\n",
       "      <td>116</td>\n",
       "      <td>116</td>\n",
       "      <td>116</td>\n",
       "      <td>116</td>\n",
       "      <td>116</td>\n",
       "    </tr>\n",
       "  </tbody>\n",
       "</table>\n",
       "</div>"
      ],
      "text/plain": [
       "              Unnamed: 0    id  date  text  retweet_count  lang  subjectivity  \\\n",
       "label                                                                           \n",
       "anger                518   518   518   518            518   518           518   \n",
       "anticipation         431   431   431   431            431   431           431   \n",
       "disgust               58    58    58    58             58    58            58   \n",
       "fear                 157   157   157   157            157   157           157   \n",
       "joy                 3989  3989  3989  3989           3989  3989          3989   \n",
       "sadness             2516  2516  2516  2516           2516  2516          2516   \n",
       "surprise              68    68    68    68             68    68            68   \n",
       "trust                116   116   116   116            116   116           116   \n",
       "\n",
       "              preprocessed_text  \n",
       "label                            \n",
       "anger                       518  \n",
       "anticipation                431  \n",
       "disgust                      58  \n",
       "fear                        157  \n",
       "joy                        3989  \n",
       "sadness                    2516  \n",
       "surprise                     68  \n",
       "trust                       116  "
      ]
     },
     "execution_count": 107,
     "metadata": {},
     "output_type": "execute_result"
    }
   ],
   "source": [
    "gold.groupby('label').count()"
   ]
  },
  {
   "cell_type": "code",
   "execution_count": 108,
   "metadata": {},
   "outputs": [],
   "source": [
    "all_categories = ['anger', 'anticipation', 'disgust', 'fear', 'joy', 'sadness', 'surprise', 'trust']\n",
    "labels = pd.get_dummies(gold.label).reindex(columns=all_categories, fill_value=0)\n",
    "ans= np.array(labels)\n",
    "tweets = np.array(gold['text'])\n",
    "output = np.array(list(map(CombinedModel, tweets)))\n",
    "     "
   ]
  },
  {
   "cell_type": "code",
   "execution_count": 109,
   "metadata": {},
   "outputs": [],
   "source": [
    "check = output.copy()\n",
    "\n",
    "# for i in range(len(check)):\n",
    "#     check[i] = check[i] * (check[i] >= np.sort(check[i])[-sum(ans[i])]).astype(int)\n",
    "    \n",
    "# check[check>=1/8] = 1\n",
    "# check[check<1/8] = 0\n",
    "\n",
    "for row in check:\n",
    "    if sum(row) != 0:\n",
    "        row[row == max(row)] = 1\n",
    "        row[row != max(row)] = 0"
   ]
  },
  {
   "cell_type": "code",
   "execution_count": null,
   "metadata": {},
   "outputs": [],
   "source": []
  },
  {
   "cell_type": "code",
   "execution_count": 287,
   "metadata": {},
   "outputs": [],
   "source": [
    "gold = pd.read_csv('/home/assem/SemEval2018-Task1-all-data/English/E-c/2018-E-c-En-train.txt', sep='\\t')\n",
    "\n",
    "gold = gold.drop(['love','optimism','pessimism'],axis=1)\n",
    "\n",
    "ans= np.array(gold[['anger', 'anticipation', 'disgust', 'fear', 'joy', 'sadness', 'surprise', 'trust']])\n",
    "\n",
    "tweets = np.array(gold['Tweet'])\n"
   ]
  },
  {
   "cell_type": "code",
   "execution_count": 288,
   "metadata": {},
   "outputs": [
    {
     "data": {
      "text/plain": [
       "array([[0.00000000e+00, 6.45041867e-03, 0.00000000e+00, ...,\n",
       "        1.84181372e-01, 2.07633175e-04, 2.92243171e-01],\n",
       "       [0.00000000e+00, 0.00000000e+00, 9.09090909e-02, ...,\n",
       "        0.00000000e+00, 0.00000000e+00, 0.00000000e+00],\n",
       "       [2.35925242e-01, 0.00000000e+00, 2.03045685e-01, ...,\n",
       "        0.00000000e+00, 0.00000000e+00, 3.10913706e-01],\n",
       "       ...,\n",
       "       [1.16164048e-01, 1.09598634e-01, 1.18615135e-01, ...,\n",
       "        8.82391561e-02, 7.69466451e-02, 2.50579945e-01],\n",
       "       [5.42712503e-01, 6.80291189e-02, 0.00000000e+00, ...,\n",
       "        4.73756742e-02, 1.42102226e-01, 3.67063591e-02],\n",
       "       [9.09090909e-02, 0.00000000e+00, 9.09090909e-01, ...,\n",
       "        0.00000000e+00, 0.00000000e+00, 0.00000000e+00]])"
      ]
     },
     "execution_count": 288,
     "metadata": {},
     "output_type": "execute_result"
    }
   ],
   "source": [
    "output = np.array(list(map(CombinedModel, tweets)))\n",
    "output"
   ]
  },
  {
   "cell_type": "code",
   "execution_count": 289,
   "metadata": {},
   "outputs": [
    {
     "data": {
      "text/plain": [
       "\"“Worry is a down payment on a problem you may never have'. \\xa0Joyce Meyer.  #motivation #leadership #worry\""
      ]
     },
     "execution_count": 289,
     "metadata": {},
     "output_type": "execute_result"
    }
   ],
   "source": [
    "tweets[0]"
   ]
  },
  {
   "cell_type": "code",
   "execution_count": 290,
   "metadata": {},
   "outputs": [
    {
     "data": {
      "text/html": [
       "<div>\n",
       "<style scoped>\n",
       "    .dataframe tbody tr th:only-of-type {\n",
       "        vertical-align: middle;\n",
       "    }\n",
       "\n",
       "    .dataframe tbody tr th {\n",
       "        vertical-align: top;\n",
       "    }\n",
       "\n",
       "    .dataframe thead th {\n",
       "        text-align: right;\n",
       "    }\n",
       "</style>\n",
       "<table border=\"1\" class=\"dataframe\">\n",
       "  <thead>\n",
       "    <tr style=\"text-align: right;\">\n",
       "      <th></th>\n",
       "      <th>ID</th>\n",
       "      <th>Tweet</th>\n",
       "      <th>anger</th>\n",
       "      <th>anticipation</th>\n",
       "      <th>disgust</th>\n",
       "      <th>fear</th>\n",
       "      <th>joy</th>\n",
       "      <th>sadness</th>\n",
       "      <th>surprise</th>\n",
       "      <th>trust</th>\n",
       "    </tr>\n",
       "  </thead>\n",
       "  <tbody>\n",
       "    <tr>\n",
       "      <th>0</th>\n",
       "      <td>2017-En-21441</td>\n",
       "      <td>“Worry is a down payment on a problem you may ...</td>\n",
       "      <td>0</td>\n",
       "      <td>1</td>\n",
       "      <td>0</td>\n",
       "      <td>0</td>\n",
       "      <td>0</td>\n",
       "      <td>0</td>\n",
       "      <td>0</td>\n",
       "      <td>1</td>\n",
       "    </tr>\n",
       "  </tbody>\n",
       "</table>\n",
       "</div>"
      ],
      "text/plain": [
       "              ID                                              Tweet  anger  \\\n",
       "0  2017-En-21441  “Worry is a down payment on a problem you may ...      0   \n",
       "\n",
       "   anticipation  disgust  fear  joy  sadness  surprise  trust  \n",
       "0             1        0     0    0        0         0      1  "
      ]
     },
     "execution_count": 290,
     "metadata": {},
     "output_type": "execute_result"
    }
   ],
   "source": [
    "gold.head(1)"
   ]
  },
  {
   "cell_type": "code",
   "execution_count": 291,
   "metadata": {},
   "outputs": [
    {
     "data": {
      "text/plain": [
       "array([0.00000000e+00, 7.09546054e-03, 0.00000000e+00, 2.37552046e-01,\n",
       "       3.31057099e-01, 1.02599509e-01, 2.28396493e-04, 3.21467488e-01])"
      ]
     },
     "execution_count": 291,
     "metadata": {},
     "output_type": "execute_result"
    }
   ],
   "source": [
    "hit(tweets[0])"
   ]
  },
  {
   "cell_type": "code",
   "execution_count": 292,
   "metadata": {},
   "outputs": [
    {
     "data": {
      "text/plain": [
       "array([3.26683324e-05, 4.42378607e-14, 2.22985912e-09, 4.67007750e-12,\n",
       "       1.73009050e-10, 9.99967323e-01, 4.05509838e-09, 2.01890223e-09])"
      ]
     },
     "execution_count": 292,
     "metadata": {},
     "output_type": "execute_result"
    }
   ],
   "source": [
    "logreg.predict_proba([tweets[0]])[0]"
   ]
  },
  {
   "cell_type": "code",
   "execution_count": 293,
   "metadata": {},
   "outputs": [
    {
     "data": {
      "text/plain": [
       "array([0.00000000e+00, 6.45041867e-03, 0.00000000e+00, 2.15956406e-01,\n",
       "       3.00960999e-01, 1.84181372e-01, 2.07633175e-04, 2.92243171e-01])"
      ]
     },
     "execution_count": 293,
     "metadata": {},
     "output_type": "execute_result"
    }
   ],
   "source": [
    "CombinedModel(tweets[0])"
   ]
  },
  {
   "cell_type": "code",
   "execution_count": 295,
   "metadata": {},
   "outputs": [
    {
     "name": "stdout",
     "output_type": "stream",
     "text": [
      "              precision    recall  f1-score   support\n",
      "\n",
      "           0       0.66      0.55      0.60      2544\n",
      "           1       0.18      0.37      0.24       978\n",
      "           2       0.65      0.40      0.50      2602\n",
      "           3       0.39      0.79      0.52      1242\n",
      "           4       0.60      0.69      0.64      2477\n",
      "           5       0.49      0.57      0.53      2008\n",
      "           6       0.12      0.40      0.19       361\n",
      "           7       0.09      0.62      0.16       357\n",
      "\n",
      "   micro avg       0.41      0.56      0.47     12569\n",
      "   macro avg       0.40      0.55      0.42     12569\n",
      "weighted avg       0.52      0.56      0.52     12569\n",
      " samples avg       0.45      0.57      0.46     12569\n",
      "\n",
      "0.354344768032981\n"
     ]
    }
   ],
   "source": [
    "check = output.copy()\n",
    "# for i in range(len(check)):\n",
    "#     check[i] = check[i] * (check[i] >= np.sort(check[i])[-sum(ans[i])]).astype(int)\n",
    "# check[check>0] = 1\n",
    "from sklearn.metrics import jaccard_score\n",
    "check[check>=0.125] = 1\n",
    "check[check<0.125] = 0\n",
    "\n",
    "# for row in check:\n",
    "#     if sum(row) != 0:\n",
    "#         row[row == max(row)] = 1\n",
    "#         row[row != max(row)] = 0\n",
    "\n",
    "check[np.isnan(check)]\n",
    "\n",
    "from sklearn.metrics import classification_report\n",
    "print(classification_report(ans,check))\n",
    "# 'anger', 'anticipation', 'disgust', 'fear', 'joy', 'sadness', 'surprise', 'trust'\n",
    "print(jaccard_score(ans,check, average='samples'))\n"
   ]
  },
  {
   "cell_type": "code",
   "execution_count": 257,
   "metadata": {},
   "outputs": [
    {
     "data": {
      "text/plain": [
       "'#Deppression is real. Partners w/ #depressed people truly dont understand the depth in which they affect us. Add in #anxiety &amp;makes it worse'"
      ]
     },
     "execution_count": 257,
     "metadata": {},
     "output_type": "execute_result"
    }
   ],
   "source": [
    "text = gold['Tweet'][4]\n",
    "text\n",
    "\n"
   ]
  },
  {
   "cell_type": "code",
   "execution_count": 264,
   "metadata": {},
   "outputs": [
    {
     "name": "stdout",
     "output_type": "stream",
     "text": [
      "[0.06772093 0.0039981  0.00873525 0.51250996 0.00803255 0.38324099\n",
      " 0.0039981  0.01176412]\n"
     ]
    },
    {
     "data": {
      "text/plain": [
       "array([1., 0., 0., 1., 0., 1., 0., 0.])"
      ]
     },
     "execution_count": 264,
     "metadata": {},
     "output_type": "execute_result"
    }
   ],
   "source": [
    "a = hit(text)\n",
    "print(a)\n",
    "a = a * (a >= np.sort(a)[-3]).astype(int)\n",
    "a[a>0] = 1\n",
    "a\n"
   ]
  },
  {
   "cell_type": "markdown",
   "metadata": {},
   "source": [
    "\n",
    "'anger', 'anticipation', 'disgust', 'fear', 'joy', 'sadness', 'surprise', 'trust'"
   ]
  },
  {
   "cell_type": "code",
   "execution_count": null,
   "metadata": {},
   "outputs": [],
   "source": []
  }
 ],
 "metadata": {
  "kernelspec": {
   "display_name": "Python 3",
   "language": "python",
   "name": "python3"
  },
  "language_info": {
   "codemirror_mode": {
    "name": "ipython",
    "version": 3
   },
   "file_extension": ".py",
   "mimetype": "text/x-python",
   "name": "python",
   "nbconvert_exporter": "python",
   "pygments_lexer": "ipython3",
   "version": "3.8.5"
  }
 },
 "nbformat": 4,
 "nbformat_minor": 4
}
